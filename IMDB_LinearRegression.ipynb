{
  "nbformat": 4,
  "nbformat_minor": 0,
  "metadata": {
    "colab": {
      "name": "IMDB_LinearRegression.ipynb",
      "provenance": [],
      "collapsed_sections": [],
      "toc_visible": true
    },
    "kernelspec": {
      "name": "python3",
      "display_name": "Python 3"
    }
  },
  "cells": [
    {
      "cell_type": "markdown",
      "metadata": {
        "id": "oLQEDskwPDfy"
      },
      "source": [
        "# Mini-project 2 - Pre-processing of the IMDB data"
      ]
    },
    {
      "cell_type": "code",
      "metadata": {
        "id": "4OBGVNh4PBqE"
      },
      "source": [
        "import numpy as np\n",
        "%matplotlib inline                                 \n",
        "import matplotlib.pyplot as plt\n",
        "from IPython.core.debugger import set_trace  \n",
        "import scipy.sparse as sparse\n",
        "import pandas as pd\n",
        "import seaborn as sns\n",
        "\n",
        "np.random.seed(1234)"
      ],
      "execution_count": null,
      "outputs": []
    },
    {
      "cell_type": "code",
      "metadata": {
        "id": "rFP-ywT3V11i",
        "colab": {
          "base_uri": "https://localhost:8080/"
        },
        "outputId": "e5953ed5-5c39-4c64-c304-0e387981082e"
      },
      "source": [
        "# Mount Google Drive\n",
        "from google.colab import drive\n",
        "drive.mount('/content/drive')\n",
        "path='/content/drive/My Drive/Colab Notebooks/COMP551_mini_proj2'"
      ],
      "execution_count": null,
      "outputs": [
        {
          "output_type": "stream",
          "text": [
            "Mounted at /content/drive\n"
          ],
          "name": "stdout"
        }
      ]
    },
    {
      "cell_type": "markdown",
      "metadata": {
        "id": "-VUYrW3vmzzT"
      },
      "source": [
        "## Import all reviews"
      ]
    },
    {
      "cell_type": "markdown",
      "metadata": {
        "id": "7gqom0ReczZ7"
      },
      "source": [
        "Import the csv file built by the merge_imdb.py script with the following columns:\n",
        "- review\n",
        "- dataset\n",
        "- label\n",
        "- rating"
      ]
    },
    {
      "cell_type": "code",
      "metadata": {
        "id": "OirksyJWdHNw"
      },
      "source": [
        "df = pd.read_csv(path+'/imdb_data/imdb_all.csv', delimiter = ';')"
      ],
      "execution_count": null,
      "outputs": []
    },
    {
      "cell_type": "code",
      "metadata": {
        "colab": {
          "base_uri": "https://localhost:8080/"
        },
        "id": "bkU_59pMmUFp",
        "outputId": "b8436b49-d0c1-4994-f839-0691ecaed274"
      },
      "source": [
        "print('Dimensions of the whole dataset:', df.shape)\n",
        "\n",
        "print('\\nFirst 3 rows of the dataset:\\n', df.iloc[:3])"
      ],
      "execution_count": null,
      "outputs": [
        {
          "output_type": "stream",
          "text": [
            "Dimensions of the whole dataset: (50000, 4)\n",
            "\n",
            "First 3 rows of the dataset:\n",
            "                                               review dataset label  rating\n",
            "0  alan rickman & emma thompson give good perform...    test   neg       4\n",
            "1  i have seen this movie and i did not care for ...    test   neg       1\n",
            "2  in los angeles the alcoholic and lazy hank chi...    test   neg       4\n"
          ],
          "name": "stdout"
        }
      ]
    },
    {
      "cell_type": "markdown",
      "metadata": {
        "id": "WRwlK4SyrdKp"
      },
      "source": [
        "## Plot the class distribution"
      ]
    },
    {
      "cell_type": "code",
      "metadata": {
        "colab": {
          "base_uri": "https://localhost:8080/",
          "height": 279
        },
        "id": "WFd8NmIMrnpj",
        "outputId": "018663d0-b9b7-49c9-f8b4-9d3092eb7ea3"
      },
      "source": [
        "ax = sns.countplot(x='label', hue ='dataset', data=df)\n",
        "ax.set(xlabel='Class', ylabel='Number of instances')\n",
        "plt.savefig(path+'/figures/imdb_labels.png')\n",
        "plt.show()"
      ],
      "execution_count": null,
      "outputs": [
        {
          "output_type": "display_data",
          "data": {
            "image/png": "[encoded data removed]",
            "text/plain": [
              "<Figure size 432x288 with 1 Axes>"
            ]
          },
          "metadata": {
            "tags": [],
            "needs_background": "light"
          }
        }
      ]
    },
    {
      "cell_type": "markdown",
      "metadata": {
        "id": "2pdRXOtQ5eww"
      },
      "source": [
        "Plot the rating distribution."
      ]
    },
    {
      "cell_type": "code",
      "metadata": {
        "colab": {
          "base_uri": "https://localhost:8080/",
          "height": 295
        },
        "id": "loBcMfSB5dWY",
        "outputId": "af9807a5-b6ae-44fb-d98c-ad76f219b08d"
      },
      "source": [
        "ax = sns.countplot(x='rating', hue ='dataset', data=df)\n",
        "ax.set(xlabel='Rating', ylabel='Number of instances', title='Rating distribution in the train and test datasets')\n",
        "plt.savefig(path+'/figures/imdb_ratings.png')\n",
        "plt.show()"
      ],
      "execution_count": null,
      "outputs": [
        {
          "output_type": "display_data",
          "data": {
            "image/png": "[encoded data removed]",
            "text/plain": [
              "<Figure size 432x288 with 1 Axes>"
            ]
          },
          "metadata": {
            "tags": [],
            "needs_background": "light"
          }
        }
      ]
    },
    {
      "cell_type": "markdown",
      "metadata": {
        "id": "3VRMwqmZm2SU"
      },
      "source": [
        "## Create train and test reviews and labels"
      ]
    },
    {
      "cell_type": "code",
      "metadata": {
        "colab": {
          "base_uri": "https://localhost:8080/"
        },
        "id": "rQYRkimxnWsr",
        "outputId": "850f6cee-dd32-4c9d-baae-d10f2c72e2f9"
      },
      "source": [
        "reviews_train = df.loc[df[\"dataset\"] == 'train', \"review\"]\n",
        "y_train = df.loc[df[\"dataset\"] == 'train', \"label\"]\n",
        "y_train = y_train.replace({'neg': 0, 'pos': 1})\n",
        "\n",
        "reviews_test = df.loc[df[\"dataset\"] == 'test', \"review\"]\n",
        "y_test = df.loc[df[\"dataset\"] == 'test', \"label\"]\n",
        "y_test = y_test.replace({'neg': 0, 'pos': 1})\n",
        "print(reviews_train.shape, y_train.shape, reviews_test.shape, y_test.shape)\n",
        "print('\\nreviews_train:\\n', reviews_train.head(n=2), '\\ny_train:\\n', y_train.head(n=2), '\\nreviews_test:\\n', reviews_test.head(n=2), '\\ny_test:\\n', y_test.head(n=2))"
      ],
      "execution_count": null,
      "outputs": [
        {
          "output_type": "stream",
          "text": [
            "(25000,) (25000,) (25000,) (25000,)\n",
            "\n",
            "reviews_train:\n",
            " 25000    working with one of the best shakespeare sourc...\n",
            "25001    welltremors i the original started off in 1990...\n",
            "Name: review, dtype: object \n",
            "y_train:\n",
            " 25000    0\n",
            "25001    0\n",
            "Name: label, dtype: int64 \n",
            "reviews_test:\n",
            " 0    alan rickman & emma thompson give good perform...\n",
            "1    i have seen this movie and i did not care for ...\n",
            "Name: review, dtype: object \n",
            "y_test:\n",
            " 0    0\n",
            "1    0\n",
            "Name: label, dtype: int64\n"
          ],
          "name": "stdout"
        }
      ]
    },
    {
      "cell_type": "markdown",
      "metadata": {
        "id": "Vq6DhwEk9x0X"
      },
      "source": [
        "## Text vectorization"
      ]
    },
    {
      "cell_type": "markdown",
      "metadata": {
        "id": "HS_cZLGZq07f"
      },
      "source": [
        "### Basic vectorization removing stopwords"
      ]
    },
    {
      "cell_type": "markdown",
      "metadata": {
        "id": "_t_6GSGcqQrb"
      },
      "source": [
        "Create the feature matrices x_train and x_test: rows=instances, columns=words, \n",
        "\n",
        "*   List item\n",
        "*   List item\n",
        "\n",
        "values=Present/Absent"
      ]
    },
    {
      "cell_type": "code",
      "metadata": {
        "colab": {
          "base_uri": "https://localhost:8080/"
        },
        "id": "WCHiMlr3n87R",
        "outputId": "de06ea51-d880-463e-c8bc-58b5ae45fba1"
      },
      "source": [
        "from sklearn.feature_extraction.text import CountVectorizer\n",
        "count_vect = CountVectorizer(binary=True, stop_words=['in','of','at','a','the'])\n",
        "x_train = count_vect.fit_transform(reviews_train)\n",
        "x_train.shape"
      ],
      "execution_count": null,
      "outputs": [
        {
          "output_type": "execute_result",
          "data": {
            "text/plain": [
              "(25000, 92711)"
            ]
          },
          "metadata": {
            "tags": []
          },
          "execution_count": 6
        }
      ]
    },
    {
      "cell_type": "code",
      "metadata": {
        "colab": {
          "base_uri": "https://localhost:8080/"
        },
        "id": "1IPVKYh-qqxQ",
        "outputId": "d524fce5-40e8-4680-9998-2c6135031551"
      },
      "source": [
        "x_test = count_vect.transform(reviews_test)\n",
        "x_test.shape"
      ],
      "execution_count": null,
      "outputs": [
        {
          "output_type": "execute_result",
          "data": {
            "text/plain": [
              "(25000, 92711)"
            ]
          },
          "metadata": {
            "tags": []
          },
          "execution_count": 7
        }
      ]
    },
    {
      "cell_type": "markdown",
      "metadata": {
        "id": "-wA6X3Eoqjk8"
      },
      "source": [
        "Visualize the sparse matrix (blue dots are non-zero values)."
      ]
    },
    {
      "cell_type": "code",
      "metadata": {
        "id": "4ZzdMa3PqpJ1",
        "colab": {
          "base_uri": "https://localhost:8080/",
          "height": 286
        },
        "outputId": "ce15deee-8da6-48c6-de7e-f33db940eb28"
      },
      "source": [
        "plt.spy(x_train, markersize=0.05, aspect='auto')"
      ],
      "execution_count": null,
      "outputs": [
        {
          "output_type": "execute_result",
          "data": {
            "text/plain": [
              "<matplotlib.lines.Line2D at 0x7fd34eca2b90>"
            ]
          },
          "metadata": {
            "tags": []
          },
          "execution_count": 15
        },
        {
          "output_type": "display_data",
          "data": {
            "image/png": "[encoded data removed]",
            "text/plain": [
              "<Figure size 432x288 with 1 Axes>"
            ]
          },
          "metadata": {
            "tags": [],
            "needs_background": "light"
          }
        }
      ]
    },
    {
      "cell_type": "code",
      "metadata": {
        "id": "WjRy2K0kq6p9",
        "colab": {
          "base_uri": "https://localhost:8080/",
          "height": 286
        },
        "outputId": "ca6315b3-5019-4e33-e1a7-3214a0469094"
      },
      "source": [
        "plt.spy(x_test, markersize=0.05, aspect='auto')"
      ],
      "execution_count": null,
      "outputs": [
        {
          "output_type": "execute_result",
          "data": {
            "text/plain": [
              "<matplotlib.lines.Line2D at 0x7f83a80a1400>"
            ]
          },
          "metadata": {
            "tags": []
          },
          "execution_count": 14
        },
        {
          "output_type": "display_data",
          "data": {
            "image/png": "[encoded data removed]",
            "text/plain": [
              "<Figure size 432x288 with 1 Axes>"
            ]
          },
          "metadata": {
            "tags": [],
            "needs_background": "light"
          }
        }
      ]
    },
    {
      "cell_type": "markdown",
      "metadata": {
        "id": "ki9bmfWV777s"
      },
      "source": [
        "### Vectorization using bigrams\n",
        "\n",
        "\n",
        "\n"
      ]
    },
    {
      "cell_type": "code",
      "metadata": {
        "colab": {
          "base_uri": "https://localhost:8080/"
        },
        "id": "iZAB51D6qeyq",
        "outputId": "f2abe513-de27-4425-d7cc-e9519220c7a1"
      },
      "source": [
        "count_vect_bigrams = CountVectorizer(binary=True, ngram_range=(1, 2), stop_words=['in','of','at','a','the'])\n",
        "x_train_bigrams = count_vect_bigrams.fit_transform(reviews_train)\n",
        "print(x_train_bigrams.shape)\n",
        "x_test_bigrams = count_vect_bigrams.transform(reviews_test)\n",
        "print(x_test_bigrams.shape)"
      ],
      "execution_count": null,
      "outputs": [
        {
          "output_type": "stream",
          "text": [
            "(25000, 1729766)\n",
            "(25000, 1729766)\n"
          ],
          "name": "stdout"
        }
      ]
    },
    {
      "cell_type": "markdown",
      "metadata": {
        "id": "U6hQlFOH8D7H"
      },
      "source": [
        "### Vectorization using word counts"
      ]
    },
    {
      "cell_type": "code",
      "metadata": {
        "colab": {
          "base_uri": "https://localhost:8080/"
        },
        "id": "zvvrkH-ksjBF",
        "outputId": "fd6d5a21-45b3-4ad2-ac39-5e2efc799455"
      },
      "source": [
        "freq_vect = CountVectorizer(ngram_range=(1, 2), stop_words=['in','of','at','a','the'])\n",
        "x_train_freq = freq_vect.fit_transform(reviews_train)\n",
        "print(x_train_freq.shape)\n",
        "x_test_freq = freq_vect.transform(reviews_test)\n",
        "print(x_test_freq.shape)\n",
        "\n"
      ],
      "execution_count": null,
      "outputs": [
        {
          "output_type": "stream",
          "text": [
            "(25000, 1729766)\n",
            "(25000, 1729766)\n"
          ],
          "name": "stdout"
        }
      ]
    },
    {
      "cell_type": "markdown",
      "metadata": {
        "id": "MUzuEKha8MrE"
      },
      "source": [
        "### Vectorization using term frequency - inverse document frequency"
      ]
    },
    {
      "cell_type": "code",
      "metadata": {
        "colab": {
          "base_uri": "https://localhost:8080/"
        },
        "id": "zpYXfv3js7oO",
        "outputId": "b0c90a37-f448-4e98-b85e-dd5d556526e2"
      },
      "source": [
        "from sklearn.feature_extraction.text import TfidfVectorizer\n",
        "tfidf_vect = TfidfVectorizer(ngram_range=(1, 2), stop_words=['in','of','at','a','the'])\n",
        "x_train_tfidf = tfidf_vect.fit_transform(reviews_train)\n",
        "print(x_train_tfidf.shape)\n",
        "x_test_tfidf = tfidf_vect.transform(reviews_test)\n",
        "print(x_test_tfidf.shape)"
      ],
      "execution_count": null,
      "outputs": [
        {
          "output_type": "stream",
          "text": [
            "(25000, 1729766)\n",
            "(25000, 1729766)\n"
          ],
          "name": "stdout"
        }
      ]
    },
    {
      "cell_type": "markdown",
      "metadata": {
        "id": "ZgNu13Q4RB5K"
      },
      "source": [
        "## Cross-validation and accuracy functions"
      ]
    },
    {
      "cell_type": "markdown",
      "metadata": {
        "id": "frDXe-yBiCw_"
      },
      "source": [
        "For linear regression, we use Root Mean Squared Error to evaluate the performance of the model."
      ]
    },
    {
      "cell_type": "code",
      "metadata": {
        "id": "23iyj_TERvD0"
      },
      "source": [
        "def evaluate_acc_linreg(y, yh):\n",
        "  accuracy = np.sqrt(np.mean((y-yh)**2))\n",
        "  return accuracy"
      ],
      "execution_count": null,
      "outputs": []
    },
    {
      "cell_type": "code",
      "metadata": {
        "id": "sT2ykOGpRFGx"
      },
      "source": [
        "def cross_validation_split(x_train,y_train,k_folds):\n",
        "  \n",
        "  #get size of validation set\n",
        "  n_val = x_train.shape[0] // k_folds\n",
        "  #initialize lists and dictionaries to store data and labels for different folds\n",
        "  full_train = []\n",
        "  full_val = []\n",
        "  #labels are stored in dictionary to prevent rounding from k_folds to store different sized arrays\n",
        "  #list works with data because it is in list of csr matrix\n",
        "  y_cv_train = {}\n",
        "  y_cv_val = {}\n",
        "  \n",
        "  \n",
        "  for f in range(k_folds):\n",
        "      tr_inds = []\n",
        "      #get the validation indexes\n",
        "      val_inds = list(range(f * n_val, (f+1)*n_val))\n",
        "      #get the train indexes\n",
        "      if f > 0:\n",
        "          tr_inds = list(range(f*n_val))\n",
        "      if f < k_folds - 1:\n",
        "          tr_inds = tr_inds + list(range((f+1)*n_val, x_train.shape[0]))\n",
        "      \n",
        "      #store training data\n",
        "      x_cv_train = x_train.tocsr()[tr_inds,:]\n",
        "      y_cv_train['fold_'+str(f)] = np.take(y_train,tr_inds)\n",
        "      #store validation data\n",
        "      x_cv_val = x_train.tocsr()[val_inds,:]\n",
        "      y_cv_val['fold_'+str(f)] = np.take(y_train,val_inds)\n",
        "      \n",
        "      full_train.append(x_cv_train)\n",
        "      full_val.append(x_cv_val)\n",
        "  return full_train, full_val, y_cv_train, y_cv_val\n",
        "\n",
        "\n",
        "#runs the cross validation\n",
        "def kfoldCV(full_train,full_val,y_cv_train,y_cv_val,model):\n",
        "  k_folds = len(full_train)\n",
        "  acc = []\n",
        "  for i in range(k_folds):\n",
        "    model.fit(full_train[i],y_cv_train['fold_'+str(i)])\n",
        "    yh = model.predict(full_val[i])\n",
        "    acc.append(evaluate_acc_linreg(y_cv_val['fold_'+str(i)], yh))\n",
        "  return acc"
      ],
      "execution_count": null,
      "outputs": []
    },
    {
      "cell_type": "markdown",
      "metadata": {
        "id": "gWdCdkCK5Hhp"
      },
      "source": [
        "## Linear regression for ratings"
      ]
    },
    {
      "cell_type": "markdown",
      "metadata": {
        "id": "rntVW0L_52nf"
      },
      "source": [
        "Create labels arrays for test and train dataset."
      ]
    },
    {
      "cell_type": "code",
      "metadata": {
        "colab": {
          "base_uri": "https://localhost:8080/"
        },
        "id": "Y8V0ysjy5KUI",
        "outputId": "9fc71010-16ca-42e4-cc44-502ac0052180"
      },
      "source": [
        "y_train_rat = df.loc[df[\"dataset\"] == 'train', \"rating\"]\n",
        "y_train_rat = y_train_rat.to_numpy()\n",
        "y_test_rat = df.loc[df[\"dataset\"] == 'test', \"rating\"]\n",
        "y_test_rat = y_test_rat.to_numpy()\n",
        "\n",
        "print(y_train_rat.shape, y_test_rat.shape)\n",
        "print('\\ny_train_rat:\\n', y_train_rat[:10], '\\ny_test_rat:\\n', y_test_rat[:10])"
      ],
      "execution_count": null,
      "outputs": [
        {
          "output_type": "stream",
          "text": [
            "(25000,) (25000,)\n",
            "\n",
            "y_train_rat:\n",
            " [4 1 4 1 3 3 4 2 1 1] \n",
            "y_test_rat:\n",
            " [4 1 4 2 1 4 2 4 3 4]\n"
          ],
          "name": "stdout"
        }
      ]
    },
    {
      "cell_type": "markdown",
      "metadata": {
        "id": "tTGQ6poV6OSp"
      },
      "source": [
        "Fit and predict with linear regression model."
      ]
    },
    {
      "cell_type": "code",
      "metadata": {
        "id": "a25wdJv86Rl2",
        "colab": {
          "base_uri": "https://localhost:8080/"
        },
        "outputId": "2ba6cc4a-ec02-4535-86d6-83abcdc20b65"
      },
      "source": [
        "from sklearn.linear_model import LinearRegression\n",
        "\n",
        "preprocess_x = [x_train, x_train_bigrams, x_train_freq, x_train_tfidf]\n",
        "mean_acc_list = []\n",
        "prepro_nb = 0\n",
        "\n",
        "for prepro in preprocess_x:\n",
        "    lin_model = LinearRegression()\n",
        "    train_set, val_set, y_cv_train, y_cv_val = cross_validation_split(prepro,y_train_rat,k_folds=5)\n",
        "    errors = kfoldCV(train_set,val_set,y_cv_train,y_cv_val,lin_model)\n",
        "    mean_acc = np.mean(errors)\n",
        "    mean_acc_list.append(mean_acc)\n",
        "    print('For preprocessed datasat #',prepro_nb,'the mean RMSE is:',mean_acc)\n",
        "    prepro_nb += 1"
      ],
      "execution_count": null,
      "outputs": [
        {
          "output_type": "stream",
          "text": [
            "For preprocessed datasat # 0 the mean RMSE is: 4.450266585621577\n",
            "For preprocessed datasat # 0 the mean RMSE is: 2.6014902359761267\n",
            "For preprocessed datasat # 0 the mean RMSE is: 2.8527897873518873\n",
            "For preprocessed datasat # 0 the mean RMSE is: 2.2754898519108555\n"
          ],
          "name": "stdout"
        }
      ]
    },
    {
      "cell_type": "markdown",
      "metadata": {
        "id": "D6rUgEjGVuf7"
      },
      "source": [
        "### Hyperparameter tuning for linear regression"
      ]
    },
    {
      "cell_type": "markdown",
      "metadata": {
        "id": "FivMdDKQvD9b"
      },
      "source": [
        "We continue with the tf_idf preprocessed dataset as it is the one that gives the lower RMSE with linear regression."
      ]
    },
    {
      "cell_type": "markdown",
      "metadata": {
        "id": "ZatqIQiWV1U6"
      },
      "source": [
        "Scaling the features to center the data between -1 and 1 for regularization.\n",
        "\n",
        "\n"
      ]
    },
    {
      "cell_type": "code",
      "metadata": {
        "id": "ewehyHbdV3CV"
      },
      "source": [
        "from sklearn.preprocessing import MaxAbsScaler\n",
        "\n",
        "transformer = MaxAbsScaler().fit(x_train_tfidf)\n",
        "x_train_tfidf_scaled = transformer.transform(x_train_tfidf)\n",
        "x_test_tfidf_scaled = transformer.transform(x_test_tfidf)"
      ],
      "execution_count": null,
      "outputs": []
    },
    {
      "cell_type": "markdown",
      "metadata": {
        "id": "szKEC5Z7rGF8"
      },
      "source": [
        "Testing L1 regularization to determine if the model is better than basic linear regression. We test different lambda values for regularization."
      ]
    },
    {
      "cell_type": "code",
      "metadata": {
        "id": "IjFfQ7QIq9l6"
      },
      "source": [
        "from sklearn import linear_model\n",
        "\n",
        "alpha_list = [0.01,0.1,1,10,100]\n",
        "mean_acc_list = []\n",
        "\n",
        "for alpha in alpha_list:\n",
        "    lin_model_l1 = linear_model.Lasso(alpha = alpha)\n",
        "    train_set, val_set, y_cv_train, y_cv_val = cross_validation_split(x_train_tfidf_scaled,y_train_rat,k_folds=5)\n",
        "    acc = kfoldCV(train_set,val_set,y_cv_train,y_cv_val,lin_model_l1)\n",
        "    mean_acc = np.mean(acc)\n",
        "    mean_acc_list.append(mean_acc)\n",
        "    print('For regularization term =',alpha,'the mean RMSE is:',mean_acc)\n"
      ],
      "execution_count": null,
      "outputs": []
    },
    {
      "cell_type": "markdown",
      "metadata": {
        "id": "jVEgFpzpfWKv"
      },
      "source": [
        "We test a mix of L1 and L2 regularization."
      ]
    },
    {
      "cell_type": "code",
      "metadata": {
        "id": "yfZ8maehB0V2",
        "colab": {
          "base_uri": "https://localhost:8080/"
        },
        "outputId": "b10eb784-f5f5-4e87-9bc3-c242cd75467e"
      },
      "source": [
        "from sklearn.linear_model import ElasticNet\n",
        "\n",
        "alpha_list = [0.01,0.1,1]\n",
        "l1_ratio = [0.25,0.5,0.75]\n",
        "mean_acc_list_elast = []\n",
        "\n",
        "for alpha in alpha_list:\n",
        "  for l1 in l1_ratio:\n",
        "    lin_model_elasticnet = ElasticNet(alpha = alpha, l1_ratio=l1)\n",
        "    train_set, val_set, y_cv_train, y_cv_val = cross_validation_split(x_train_tfidf_scaled,y_train_rat,k_folds=5)\n",
        "    acc = kfoldCV(train_set,val_set,y_cv_train,y_cv_val,lin_model_elasticnet)\n",
        "    mean_acc = np.mean(acc)\n",
        "    mean_acc_list_elast.append(mean_acc)\n",
        "    print('For regularization term =',alpha,'For l1 ratio =',l1,'the mean RMSE is:',mean_acc)"
      ],
      "execution_count": null,
      "outputs": [
        {
          "output_type": "stream",
          "text": [
            "For regularization term = 0.01 For l1 ratio = 0.25 the mean RMSE is: 2.9692716684564524\n",
            "For regularization term = 0.01 For l1 ratio = 0.5 the mean RMSE is: 3.0927220343373074\n",
            "For regularization term = 0.01 For l1 ratio = 0.75 the mean RMSE is: 3.1487260828768244\n",
            "For regularization term = 0.1 For l1 ratio = 0.25 the mean RMSE is: 4.008416760696623\n",
            "For regularization term = 0.1 For l1 ratio = 0.5 the mean RMSE is: 4.076897946612997\n",
            "For regularization term = 0.1 For l1 ratio = 0.75 the mean RMSE is: 4.087227157248584\n",
            "For regularization term = 1 For l1 ratio = 0.25 the mean RMSE is: 4.087227157248584\n",
            "For regularization term = 1 For l1 ratio = 0.5 the mean RMSE is: 4.087227157248584\n",
            "For regularization term = 1 For l1 ratio = 0.75 the mean RMSE is: 4.087227157248584\n"
          ],
          "name": "stdout"
        }
      ]
    },
    {
      "cell_type": "markdown",
      "metadata": {
        "id": "FcMF1wgyfTT7"
      },
      "source": [
        "We test pure L2 regularization."
      ]
    },
    {
      "cell_type": "code",
      "metadata": {
        "colab": {
          "base_uri": "https://localhost:8080/"
        },
        "id": "wIUCGW7Efcba",
        "outputId": "628668ea-8920-45de-b243-792f165f943d"
      },
      "source": [
        "from sklearn.linear_model import Ridge\n",
        "\n",
        "alpha_list = [0.001,0.01,0.1,1,10,100]\n",
        "solver_list = ['lsqr', 'saga']\n",
        "mean_acc_list_ridge = []\n",
        "\n",
        "for solver in solver_list:\n",
        "  for alpha in alpha_list:\n",
        "    lin_model_ridge = Ridge(alpha = alpha, solver=solver, fit_intercept=False)\n",
        "    train_set, val_set, y_cv_train, y_cv_val = cross_validation_split(x_train_tfidf_scaled,y_train_rat,k_folds=5)\n",
        "    acc = kfoldCV(train_set,val_set,y_cv_train,y_cv_val,lin_model_ridge)\n",
        "    mean_acc = np.mean(acc)\n",
        "    mean_acc_list_ridge.append(mean_acc)\n",
        "    print('For solver',solver,'and regularization term =',alpha,'the mean RMSE is:',mean_acc)"
      ],
      "execution_count": null,
      "outputs": [
        {
          "output_type": "stream",
          "text": [
            "For solver lsqr and regularization term = 0.001 the mean RMSE is: 2.682221045994189\n",
            "For solver lsqr and regularization term = 0.01 the mean RMSE is: 2.681882008470933\n",
            "For solver lsqr and regularization term = 0.1 the mean RMSE is: 2.682837440734533\n",
            "For solver lsqr and regularization term = 1 the mean RMSE is: 2.6838054645575555\n",
            "For solver lsqr and regularization term = 10 the mean RMSE is: 2.6964564823839106\n",
            "For solver lsqr and regularization term = 100 the mean RMSE is: 2.8618097007191867\n",
            "For solver saga and regularization term = 0.001 the mean RMSE is: 2.680965221510676\n",
            "For solver saga and regularization term = 0.01 the mean RMSE is: 2.6810594396352974\n",
            "For solver saga and regularization term = 0.1 the mean RMSE is: 2.6811112196857287\n",
            "For solver saga and regularization term = 1 the mean RMSE is: 2.682978568802508\n",
            "For solver saga and regularization term = 10 the mean RMSE is: 2.6981660964674434\n",
            "For solver saga and regularization term = 100 the mean RMSE is: 2.8670263964400653\n"
          ],
          "name": "stdout"
        }
      ]
    },
    {
      "cell_type": "code",
      "metadata": {
        "colab": {
          "base_uri": "https://localhost:8080/",
          "height": 286
        },
        "id": "RpQiB4btFHmZ",
        "outputId": "dc39d52c-6a98-4ae1-d777-f5eae815e219"
      },
      "source": [
        "df.plot = pd.DataFrame(mean_acc_list_ridge,columns=['rmse'])\n",
        "df.plot['solver'] = ['lsqr']*6 + ['saga']*6\n",
        "df.plot['alpha'] = alpha_list*2\n",
        "\n",
        "import seaborn as sns\n",
        "ax = sns.lineplot(x=\"alpha\", y=\"rmse\", hue=\"solver\", data=df.plot)\n",
        "ax.set(xscale=\"log\", xlabel='Regularization term', ylabel='Root mean square error')\n",
        "plt.savefig(path+'/figures/linreg_hyperparam.png')\n",
        "plt.show()"
      ],
      "execution_count": null,
      "outputs": [
        {
          "output_type": "display_data",
          "data": {
            "image/png": "[encoded data removed]",
            "text/plain": [
              "<Figure size 432x288 with 1 Axes>"
            ]
          },
          "metadata": {
            "tags": [],
            "needs_background": "light"
          }
        }
      ]
    },
    {
      "cell_type": "markdown",
      "metadata": {
        "id": "R0rdsiR-B6YS"
      },
      "source": [
        "## Experiments for linear regression"
      ]
    },
    {
      "cell_type": "markdown",
      "metadata": {
        "id": "z_GTvFPEB-J5"
      },
      "source": [
        "Train the model on the whole train dataset and report performance on the test dataset."
      ]
    },
    {
      "cell_type": "markdown",
      "metadata": {
        "id": "eKjm9lsACFKj"
      },
      "source": [
        "### Basic linear regression (ordinary least squares)"
      ]
    },
    {
      "cell_type": "code",
      "metadata": {
        "colab": {
          "base_uri": "https://localhost:8080/"
        },
        "id": "YArMXrJeCRmi",
        "outputId": "06d2d764-cf80-4ba5-93cd-5b100222d2ae"
      },
      "source": [
        "from sklearn.linear_model import LinearRegression\n",
        "\n",
        "lin_model = LinearRegression()\n",
        "lin_model.fit(x_train_tfidf,y_train_rat)\n",
        "yh = lin_model.predict(x_test_tfidf)\n",
        "print('RMSE is:',evaluate_acc_linreg(y_test_rat, yh))\n"
      ],
      "execution_count": null,
      "outputs": [
        {
          "output_type": "stream",
          "text": [
            "RMSE is: 2.0759081121272756\n"
          ],
          "name": "stdout"
        }
      ]
    },
    {
      "cell_type": "markdown",
      "metadata": {
        "id": "FKaXvCl1CKo3"
      },
      "source": [
        "### Ridge regression with best hyperparameter"
      ]
    },
    {
      "cell_type": "code",
      "metadata": {
        "colab": {
          "base_uri": "https://localhost:8080/"
        },
        "id": "Zh3czxn6CQti",
        "outputId": "8d6c3ced-fad9-49ef-a719-7815aeaf132a"
      },
      "source": [
        "from sklearn.linear_model import Ridge\n",
        "\n",
        "lin_model_ridge = Ridge(alpha = 10, solver='saga', fit_intercept=False)\n",
        "lin_model_ridge.fit(x_train_tfidf_scaled,y_train_rat)\n",
        "yh = lin_model_ridge.predict(x_test_tfidf_scaled)\n",
        "print('RMSE is:',evaluate_acc_linreg(y_test_rat, yh))"
      ],
      "execution_count": null,
      "outputs": [
        {
          "output_type": "stream",
          "text": [
            "RMSE is: 2.618782596467862\n"
          ],
          "name": "stdout"
        }
      ]
    },
    {
      "cell_type": "markdown",
      "metadata": {
        "id": "D78DQnHsbya-"
      },
      "source": [
        "### Performance according to the size of the dataset"
      ]
    },
    {
      "cell_type": "code",
      "metadata": {
        "id": "Q4hDAdOeb1s3"
      },
      "source": [
        "# Split the training set into different sizes\n",
        "def size_split(x_train, y_train, n_test_list):\n",
        "  x_train_sizes_list = []\n",
        "  y_train_sizes_list = []\n",
        "  for n in n_test_list:\n",
        "    num_instances = x_train.shape[0]\n",
        "    inds = np.random.permutation(num_instances)\n",
        "    n_test = int(num_instances*n) - 1\n",
        "    \n",
        "    #shuffle the data\n",
        "    x_train_sizes = x_train.tocsr()[inds,]\n",
        "    y_train_sizes = y_train[inds]\n",
        "\n",
        "    #store data\n",
        "    x_train_sizes = x_train_sizes[:n_test,:]\n",
        "    x_train_sizes_list.append(x_train_sizes)\n",
        "\n",
        "    y_train_sizes = y_train_sizes[:n_test]\n",
        "    y_train_sizes_list.append(y_train_sizes)\n",
        "\n",
        "  return x_train_sizes_list, y_train_sizes_list"
      ],
      "execution_count": null,
      "outputs": []
    },
    {
      "cell_type": "code",
      "metadata": {
        "id": "E7aEzEb9b7XL"
      },
      "source": [
        "n_sizes = [0.2, 0.4, 0.6, 0.8, 1]\n",
        "x_train_sizes_list, y_train_sizes_list = size_split(x_train_tfidf, y_train_rat, n_test_list=n_sizes)"
      ],
      "execution_count": null,
      "outputs": []
    },
    {
      "cell_type": "code",
      "metadata": {
        "id": "vK0_Q9zhcZRO",
        "colab": {
          "base_uri": "https://localhost:8080/",
          "height": 296
        },
        "outputId": "47d1cfc8-c7fb-431c-f931-9de1b97b2328"
      },
      "source": [
        "from sklearn.linear_model import LinearRegression\n",
        "\n",
        "err_test = []\n",
        "\n",
        "for i in range(len(x_train_sizes_list)):\n",
        "    lin_model = LinearRegression()\n",
        "    lin_model.fit(x_train_sizes_list[i], y_train_sizes_list[i])\n",
        "    yh = lin_model.predict(x_test_tfidf)\n",
        "    err_test.append(evaluate_acc_linreg(y_test_rat, yh))\n",
        "\n",
        "print(err_test)\n",
        "plt.plot(n_sizes, err_test, '-')\n",
        "plt.xlabel('size of the training dataset')\n",
        "plt.ylabel('root mean square error')\n",
        "plt.savefig(path+'/figures/linreg_error_sizetraining.png')\n",
        "plt.show()"
      ],
      "execution_count": null,
      "outputs": [
        {
          "output_type": "stream",
          "text": [
            "[2.226117709369042, 2.146778004196603, 2.1104947280325157, 2.0887204659806367, 2.075900190883697]\n"
          ],
          "name": "stdout"
        },
        {
          "output_type": "display_data",
          "data": {
            "image/png": "[encoded data removed]",
            "text/plain": [
              "<Figure size 432x288 with 1 Axes>"
            ]
          },
          "metadata": {
            "tags": [],
            "needs_background": "light"
          }
        }
      ]
    }
  ]
}