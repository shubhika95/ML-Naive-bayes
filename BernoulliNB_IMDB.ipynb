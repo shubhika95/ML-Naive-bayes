{
 "cells": [
  {
   "cell_type": "code",
   "execution_count": 35,
   "metadata": {},
   "outputs": [
    {
     "data": {
      "text/plain": [
       "' Bernoulli Naive Bayes model where the features are represented in terms of 1, if present and 0, if absent \\nin the document based on vocabulary we build\\nThis model involves IMDB review data, which was preprocessed to be included in one single document called \"imdb_all.csv\"\\n'"
      ]
     },
     "execution_count": 35,
     "metadata": {},
     "output_type": "execute_result"
    }
   ],
   "source": [
    "''' Bernoulli Naive Bayes model where the features are represented in terms of 1, if present and 0, if absent \n",
    "in the document based on vocabulary we build\n",
    "This model involves IMDB review data, which was preprocessed to be included in one single document called \"imdb_all.csv\"\n",
    "'''"
   ]
  },
  {
   "cell_type": "code",
   "execution_count": 21,
   "metadata": {},
   "outputs": [],
   "source": [
    "#import all required libraries\n",
    "import numpy as np\n",
    "import pandas as pd\n",
    "import matplotlib.pyplot as plt\n",
    "%matplotlib inline                                 \n",
    "from IPython.core.debugger import set_trace  \n",
    "import scipy.sparse as sparse\n",
    "import seaborn as sns\n",
    "\n",
    "np.random.seed(1234)"
   ]
  },
  {
   "cell_type": "code",
   "execution_count": 22,
   "metadata": {},
   "outputs": [],
   "source": [
    "#import dataset\n",
    "df = pd.read_csv('imdb_all.csv', delimiter = ';')"
   ]
  },
  {
   "cell_type": "code",
   "execution_count": 23,
   "metadata": {},
   "outputs": [
    {
     "name": "stdout",
     "output_type": "stream",
     "text": [
      "Dimensions of the whole dataset: (50000, 4)\n",
      "\n",
      "First 3 rows of the dataset:\n",
      "                                               review dataset label  rating\n",
      "0  alan rickman & emma thompson give good perform...    test   neg       4\n",
      "1  i have seen this movie and i did not care for ...    test   neg       1\n",
      "2  in los angeles the alcoholic and lazy hank chi...    test   neg       4\n"
     ]
    }
   ],
   "source": [
    "print('Dimensions of the whole dataset:', df.shape)\n",
    "print('\\nFirst 3 rows of the dataset:\\n', df.iloc[:3])"
   ]
  },
  {
   "cell_type": "code",
   "execution_count": 24,
   "metadata": {},
   "outputs": [
    {
     "name": "stdout",
     "output_type": "stream",
     "text": [
      "length of stopwords to be removed from our vocabulary:  211\n"
     ]
    },
    {
     "name": "stderr",
     "output_type": "stream",
     "text": [
      "[nltk_data] Downloading package stopwords to\n",
      "[nltk_data]     C:\\Users\\Admin\\AppData\\Roaming\\nltk_data...\n",
      "[nltk_data]   Package stopwords is already up-to-date!\n"
     ]
    }
   ],
   "source": [
    "#import stopwords from nltk(a natural language processing library)\n",
    "import nltk\n",
    "import string\n",
    "\n",
    "nltk.download(\"stopwords\")\n",
    "from nltk.corpus import stopwords\n",
    "stop = set(stopwords.words(\"english\"))\n",
    "\n",
    "#Adding all the above lists and inclusing punctuations to syop words\n",
    "stop_words = list(stop)+list(set(string.punctuation))\n",
    "print(\"length of stopwords to be removed from our vocabulary: \",str(len(stop_words)))"
   ]
  },
  {
   "cell_type": "code",
   "execution_count": 25,
   "metadata": {},
   "outputs": [
    {
     "name": "stdout",
     "output_type": "stream",
     "text": [
      "(25000,) (25000,) (25000,) (25000,)\n",
      "\n",
      "reviews_train:\n",
      " 25000    working with one of the best shakespeare sourc...\n",
      "25001    welltremors i the original started off in 1990...\n",
      "Name: review, dtype: object \n",
      "y_train:\n",
      " 25000    0\n",
      "25001    0\n",
      "Name: label, dtype: int64 \n",
      "reviews_test:\n",
      " 0    alan rickman & emma thompson give good perform...\n",
      "1    i have seen this movie and i did not care for ...\n",
      "Name: review, dtype: object \n",
      "y_test:\n",
      " 0    0\n",
      "1    0\n",
      "Name: label, dtype: int64\n"
     ]
    }
   ],
   "source": [
    "train_label = []\n",
    "test_label = []\n",
    "reviews_train = df.loc[df[\"dataset\"] == 'train', \"review\"]\n",
    "y_train = df.loc[df[\"dataset\"] == 'train', \"label\"]\n",
    "y_train = y_train.replace({'neg': 0, 'pos': 1})\n",
    "\n",
    "reviews_test = df.loc[df[\"dataset\"] == 'test', \"review\"]\n",
    "y_test = df.loc[df[\"dataset\"] == 'test', \"label\"]\n",
    "y_test = y_test.replace({'neg': 0, 'pos': 1})\n",
    "\n",
    "train_label = y_train.to_numpy()\n",
    "test_label = y_test.to_numpy()\n",
    "print(reviews_train.shape, y_train.shape, reviews_test.shape, y_test.shape)\n",
    "print('\\nreviews_train:\\n', reviews_train.head(n=2), '\\ny_train:\\n', y_train.head(n=2), '\\nreviews_test:\\n', reviews_test.head(n=2), '\\ny_test:\\n', y_test.head(n=2))"
   ]
  },
  {
   "cell_type": "markdown",
   "metadata": {},
   "source": [
    "# **Data Exploration**"
   ]
  },
  {
   "cell_type": "code",
   "execution_count": 27,
   "metadata": {},
   "outputs": [
    {
     "data": {
      "image/png": "[encoded data removed]",
      "text/plain": [
       "<Figure size 432x288 with 1 Axes>"
      ]
     },
     "metadata": {
      "needs_background": "light"
     },
     "output_type": "display_data"
    }
   ],
   "source": [
    "#Plot class distribution\n",
    "ax = sns.countplot(x='label', hue ='dataset', data=df)\n",
    "ax.set(xlabel='Class', ylabel='Number of instances')\n",
    "#plt.savefig(path+'/figures/imdb_labels.png')\n",
    "plt.show()"
   ]
  },
  {
   "cell_type": "code",
   "execution_count": 28,
   "metadata": {},
   "outputs": [
    {
     "data": {
      "image/png": "[encoded data removed]",
      "text/plain": [
       "<Figure size 432x288 with 1 Axes>"
      ]
     },
     "metadata": {
      "needs_background": "light"
     },
     "output_type": "display_data"
    }
   ],
   "source": [
    "#PLot the rating distribution\n",
    "ax = sns.countplot(x='rating', hue ='dataset', data=df)\n",
    "ax.set(xlabel='Rating', ylabel='Number of instances', title='Rating distribution in the train and test datasets')\n",
    "#plt.savefig(path+'/figures/imdb_ratings.png')\n",
    "plt.show()"
   ]
  },
  {
   "cell_type": "code",
   "execution_count": 29,
   "metadata": {},
   "outputs": [
    {
     "name": "stdout",
     "output_type": "stream",
     "text": [
      "(25000, 92711)\n",
      "(25000, 92711)\n"
     ]
    }
   ],
   "source": [
    "#Test vectorization\n",
    "'''1. Using basic stop words\n",
    "Create the feature matrices x_train and x_test: rows=instances, columns=words, \n",
    "\n",
    "*   List item\n",
    "*   List item\n",
    "\n",
    "values=Present/Absent\n",
    "'''\n",
    "from sklearn.feature_extraction.text import CountVectorizer\n",
    "count_vect = CountVectorizer(binary=True, stop_words=['in','of','at','a','the'])\n",
    "x_train = count_vect.fit_transform(reviews_train)\n",
    "print(x_train.shape)\n",
    "x_test = count_vect.transform(reviews_test)\n",
    "print(x_test.shape)"
   ]
  },
  {
   "cell_type": "code",
   "execution_count": 32,
   "metadata": {},
   "outputs": [
    {
     "data": {
      "image/png": "[encoded data removed]",
      "text/plain": [
       "<Figure size 432x288 with 1 Axes>"
      ]
     },
     "metadata": {
      "needs_background": "light"
     },
     "output_type": "display_data"
    },
    {
     "data": {
      "image/png": "[encoded data removed]",
      "text/plain": [
       "<Figure size 432x288 with 1 Axes>"
      ]
     },
     "metadata": {
      "needs_background": "light"
     },
     "output_type": "display_data"
    }
   ],
   "source": [
    "#Visualize the sparse matrix (blue dots are non-zero values).\n",
    "plt.spy(x_train, markersize=0.05, aspect='auto')\n",
    "plt.title(\"For training dataset\")\n",
    "plt.show()\n",
    "plt.spy(x_test, markersize=0.05, aspect='auto')\n",
    "plt.title(\"For test dataset\")\n",
    "plt.show()"
   ]
  },
  {
   "cell_type": "code",
   "execution_count": 33,
   "metadata": {},
   "outputs": [
    {
     "name": "stdout",
     "output_type": "stream",
     "text": [
      "(25000, 1729766)\n",
      "(25000, 1729766)\n"
     ]
    }
   ],
   "source": [
    "#Vectorizing using bigrams\n",
    "count_vect_bigrams = CountVectorizer(binary=True, ngram_range=(1, 2), stop_words=['in','of','at','a','the'])\n",
    "x_train_bigrams = count_vect_bigrams.fit_transform(reviews_train)\n",
    "print(x_train_bigrams.shape)\n",
    "x_test_bigrams = count_vect_bigrams.transform(reviews_test)\n",
    "print(x_test_bigrams.shape)"
   ]
  },
  {
   "cell_type": "code",
   "execution_count": 34,
   "metadata": {},
   "outputs": [
    {
     "name": "stdout",
     "output_type": "stream",
     "text": [
      "(25000, 1729766)\n",
      "(25000, 1729766)\n"
     ]
    }
   ],
   "source": [
    "#Vectorizing using word count\n",
    "freq_vect = CountVectorizer(ngram_range=(1, 2), stop_words=['in','of','at','a','the'])\n",
    "x_train_freq = freq_vect.fit_transform(reviews_train)\n",
    "print(x_train_freq.shape)\n",
    "x_test_freq = freq_vect.transform(reviews_test)\n",
    "print(x_test_freq.shape)"
   ]
  },
  {
   "cell_type": "markdown",
   "metadata": {},
   "source": [
    "# Model building"
   ]
  },
  {
   "cell_type": "code",
   "execution_count": 10,
   "metadata": {},
   "outputs": [],
   "source": [
    "from sklearn.feature_extraction.text import CountVectorizer\n",
    "def preprocess():\n",
    "    trainD = []\n",
    "    testD = []\n",
    "    \n",
    "    #Vectorize the training data and store it in an array\n",
    "    count_vect = CountVectorizer(True, stop_words)\n",
    "    x_train = count_vect.fit_transform(reviews_train)\n",
    "    train_data = x_train.tocsr()\n",
    "    \n",
    "    #Create the vocabulary\n",
    "    features = count_vect.get_feature_names()\n",
    "    \n",
    "    #vectorize the test data over the features already fitted and store it in array\n",
    "    x_test = count_vect.transform(reviews_test) #shape = no. of docs X no. of features\n",
    "    test_data = x_test.tocsr()\n",
    "    \n",
    "    #trainD.append(train_data)\n",
    "    #testD.append(test_data)\n",
    "    \n",
    "    return (train_data, test_data, features)\n",
    "    #return (trainD, testD, features)"
   ]
  },
  {
   "cell_type": "code",
   "execution_count": 11,
   "metadata": {},
   "outputs": [],
   "source": [
    "class NaiveBayes:\n",
    "    \n",
    "    def __init__(self,unique_classes):\n",
    "        \n",
    "        self.classes=unique_classes # Constructor is sinply passed with unique number of classes of the training set\n",
    "    \n",
    "    ######################################################################################################################\n",
    "    #Calculate prior probability (pi) for each class. Here as mentioned are 20 news group classes\n",
    "    #pi(j) = (class(j)+1)/(all documents[i.e., sum of all docs in 20 classes]+2) using laplacian smoothening with alpha = beta =1\n",
    "    def prior(self,label):\n",
    "\n",
    "        pi = {}\n",
    "        total = {}\n",
    "        totald = len(label) + 2\n",
    "        unique, counts = np.unique(label, return_counts=True)\n",
    "        total = dict(zip(unique, counts))\n",
    "        pi = dict(zip(unique, counts)) \n",
    "\n",
    "        #Calculate probability\n",
    "        for key in pi:\n",
    "            pi[key] = (pi[key]+1)/totald\n",
    "\n",
    "        return (pi, total)\n",
    "    \n",
    "    ######################################################################################################################\n",
    "    #Compute class conditional parameter matrix, theta(d,y) using alpha=beta=1 for smoothening\n",
    "    def fit(self,x,y):\n",
    "        paramL = []\n",
    "        x1=x[[index for index, value in enumerate(y) if value == 1]]\n",
    "        t1 = ((np.sum(x1, axis=0)+1)/(x1.shape[0]+2)) #calculate the sum of columns/total column for that class(with smothening)\n",
    "        x0=x[[index for index, value in enumerate(y) if value == 0]]\n",
    "        t0 = ((np.sum(x0, axis=0)+1)/(x0.shape[0]+2)) #calculate the sum of columns/total column for that class(with smothening)\n",
    "        paramL = np.r_[t0,t1]\n",
    "        return(paramL)\n",
    "    \n",
    "    ##########################################################################################################################\n",
    "    #First calculating unnormalised posterior probability and then normalising to calculate labels for the testing data\n",
    "    def predict(self, x, learn):\n",
    "            \n",
    "        #Unnormalised posterior probabilities for all classes\n",
    "        #posterior of one class = prior of that label * (product of posterior for all features)\n",
    "        print(\"Unnormalised probability calculation\")\n",
    "        posteriorUN = []\n",
    "        p0 = learn[0][0]\n",
    "        p1 = learn[1][0]\n",
    "        n,f = x.shape\n",
    "        for instance in range(n):\n",
    "            temp = (x.__getitem__(instance)).toarray()\n",
    "            for element in range(len(temp[0])):\n",
    "                if temp[0][element] == 1:\n",
    "                    p0=p0*learn[0][element+1]\n",
    "                    p1=p1*learn[1][element+1]\n",
    "                else:\n",
    "                    p0=p0*(1-learn[0][element+1])\n",
    "                    p1=p1*(1-learn[1][element+1])\n",
    "            pUN=[p0,p1]\n",
    "            posteriorUN.append(pUN)\n",
    "            \n",
    "        print(\"Unnormalised probability calculated\")\n",
    "            \n",
    "        #normalising the posterior probability\n",
    "        #normalised probabilty = prob of c class/sum of all probabilities(for all classes)\n",
    "        pT = np.transpose(np.array(posteriorUN))\n",
    "        posteriorN = []\n",
    "        for i in range (len(pT)):\n",
    "            pn = []\n",
    "            for j in range (len(pT[0])):\n",
    "                s=np.sum(pT[i])\n",
    "                pn.append(pT[i][j]/s)\n",
    "            posteriorN.append(pn)\n",
    "        print(\"normalised probability calculated\")\n",
    "        #Making prediction based on the higher probabilty for given two classes\n",
    "        ypred = []\n",
    "        for i in range(len(posteriorN)):\n",
    "            max_index_col = np.argmax(np.array(posteriorN[i]), axis=0)\n",
    "            ypred.append(max_index_col)\n",
    "\n",
    "        return(ypred)"
   ]
  },
  {
   "cell_type": "code",
   "execution_count": 15,
   "metadata": {},
   "outputs": [
    {
     "data": {
      "text/plain": [
       "25000"
      ]
     },
     "execution_count": 15,
     "metadata": {},
     "output_type": "execute_result"
    }
   ],
   "source": [
    "train_label.shape[0]"
   ]
  },
  {
   "cell_type": "code",
   "execution_count": 20,
   "metadata": {},
   "outputs": [
    {
     "name": "stdout",
     "output_type": "stream",
     "text": [
      "---------------- Training In Progress --------------------\n",
      "92715\n",
      "(25000, 92715)\n",
      "----------------- Training Completed ---------------------\n"
     ]
    }
   ],
   "source": [
    "nb=NaiveBayes(np.unique(train_label)) #instantiate a NB class object\n",
    "print (\"---------------- Training In Progress --------------------\")\n",
    "\n",
    "train_data, test_data, features = preprocess()\n",
    "#Create the vocabulary\n",
    "print(len(features))\n",
    "print(train_data.shape) \n",
    "pi, total = nb.prior(train_label) #start tarining by calling the train function\n",
    "theta = np.array(nb.fit(train_data, train_label))\n",
    "print ('----------------- Training Completed ---------------------')"
   ]
  },
  {
   "cell_type": "code",
   "execution_count": null,
   "metadata": {},
   "outputs": [
    {
     "name": "stdout",
     "output_type": "stream",
     "text": [
      "0.5 0.5\n"
     ]
    }
   ],
   "source": [
    "prior = np.array(list(pi.values()))\n",
    "learn = np.c_[prior,theta]\n",
    "print(learn[0][0], learn[1][0])\n",
    "\n",
    "pclasses=nb.predict(test_data, learn) #get predcitions for test set\n",
    "\n",
    "#check how many predcitions actually match original test labels\n",
    "test_acc=np.sum(pclasses==test_label)/float(test_label.shape[0]) \n",
    "\n",
    "print (\"Test Set Examples: \",test_label.shape[0])\n",
    "print (\"Test Set Accuracy: \",test_acc*100,\"%\")"
   ]
  },
  {
   "cell_type": "code",
   "execution_count": 39,
   "metadata": {},
   "outputs": [
    {
     "name": "stdout",
     "output_type": "stream",
     "text": [
      "              precision    recall  f1-score   support\n",
      "\n",
      "           0       0.00      0.00      0.00     12500\n",
      "           1       0.50      1.00      0.67     12500\n",
      "\n",
      "    accuracy                           0.50     25000\n",
      "   macro avg       0.25      0.50      0.33     25000\n",
      "weighted avg       0.25      0.50      0.33     25000\n",
      "\n"
     ]
    },
    {
     "name": "stderr",
     "output_type": "stream",
     "text": [
      "C:\\ProgramData\\Anaconda3\\lib\\site-packages\\sklearn\\metrics\\classification.py:1437: UndefinedMetricWarning: Precision and F-score are ill-defined and being set to 0.0 in labels with no predicted samples.\n",
      "  'precision', 'predicted', average, warn_for)\n"
     ]
    }
   ],
   "source": [
    "from sklearn.metrics import classification_report,confusion_matrix\n",
    "print(classification_report(test_label, pclasses)) #classification report for testing data"
   ]
  },
  {
   "cell_type": "code",
   "execution_count": null,
   "metadata": {},
   "outputs": [],
   "source": []
  }
 ],
 "metadata": {
  "kernelspec": {
   "display_name": "Python 3",
   "language": "python",
   "name": "python3"
  },
  "language_info": {
   "codemirror_mode": {
    "name": "ipython",
    "version": 3
   },
   "file_extension": ".py",
   "mimetype": "text/x-python",
   "name": "python",
   "nbconvert_exporter": "python",
   "pygments_lexer": "ipython3",
   "version": "3.7.4"
  }
 },
 "nbformat": 4,
 "nbformat_minor": 2
}
