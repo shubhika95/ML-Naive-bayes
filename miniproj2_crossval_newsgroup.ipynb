{
  "nbformat": 4,
  "nbformat_minor": 0,
  "metadata": {
    "colab": {
      "name": "miniproj2_crossval_newsgroup.ipynb",
      "provenance": []
    },
    "kernelspec": {
      "name": "python3",
      "display_name": "Python 3"
    }
  },
  "cells": [
    {
      "cell_type": "code",
      "metadata": {
        "id": "1iN6ND0RMgAp"
      },
      "source": [
        "import numpy as np\n",
        "%matplotlib inline                                 \n",
        "import matplotlib.pyplot as plt\n",
        "from IPython.core.debugger import set_trace  \n",
        "import scipy.sparse as sparse\n",
        "import pandas as pd\n",
        "import seaborn as sns\n",
        "from sklearn.feature_extraction.text import CountVectorizer\n",
        "from sklearn.datasets import fetch_20newsgroups\n",
        "np.random.seed(1234)"
      ],
      "execution_count": 25,
      "outputs": []
    },
    {
      "cell_type": "markdown",
      "metadata": {
        "id": "25GJfCODRMl-"
      },
      "source": [
        "Load newsgroup data and use countvectorize to get data into 'bag of words' format"
      ]
    },
    {
      "cell_type": "code",
      "metadata": {
        "colab": {
          "base_uri": "https://localhost:8080/"
        },
        "id": "dYkp5U9jMhAz",
        "outputId": "7da1302b-2262-40c9-f919-644961a91a7a"
      },
      "source": [
        "newsgroups_train = fetch_20newsgroups(subset='train',\n",
        "                                      remove=('headers', 'footers', 'quotes'))\n",
        "\n",
        "newsgroups_test = fetch_20newsgroups(subset='test',\n",
        "                                      remove=('headers', 'footers', 'quotes'))\n",
        "\n",
        "\n",
        "# Labels \n",
        "y_train = newsgroups_train.target\n",
        "print('y_train dimensions:\\n', y_train.shape, '\\nFirst elements:\\n', y_train[:5])\n",
        "\n",
        "y_test = newsgroups_test.target\n",
        "print('y_test dimensions:\\n', y_test.shape, '\\nFirst elements:\\n', y_test[:5])\n",
        "\n",
        "\n",
        "count_vect = CountVectorizer(binary=True, stop_words=['in','of','at','a','the'])\n",
        "x_train = count_vect.fit_transform(newsgroups_train.data)\n",
        "x_train.shape\n",
        "x_test = count_vect.transform(newsgroups_test.data)\n",
        "x_test.shape"
      ],
      "execution_count": 26,
      "outputs": [
        {
          "output_type": "stream",
          "text": [
            "y_train dimensions:\n",
            " (11314,) \n",
            "First elements:\n",
            " [ 7  4  4  1 14]\n",
            "y_test dimensions:\n",
            " (7532,) \n",
            "First elements:\n",
            " [ 7  5  0 17 19]\n"
          ],
          "name": "stdout"
        },
        {
          "output_type": "execute_result",
          "data": {
            "text/plain": [
              "(7532, 101627)"
            ]
          },
          "metadata": {
            "tags": []
          },
          "execution_count": 26
        }
      ]
    },
    {
      "cell_type": "markdown",
      "metadata": {
        "id": "F8O9thqxRheb"
      },
      "source": [
        "Different preprocessing techniques"
      ]
    },
    {
      "cell_type": "code",
      "metadata": {
        "colab": {
          "base_uri": "https://localhost:8080/"
        },
        "id": "J4JxTdBVFB1T",
        "outputId": "6e931b72-53b3-46aa-f29b-17a618f53187"
      },
      "source": [
        "count_vect_bigrams = CountVectorizer(binary=True, ngram_range=(1, 2), stop_words=['in','of','at','a','the'])\n",
        "x_train_bigrams = count_vect_bigrams.fit_transform(newsgroups_train.data)\n",
        "print(x_train_bigrams.shape)\n",
        "x_test_bigrams = count_vect_bigrams.transform(newsgroups_test.data)\n",
        "print(x_test_bigrams.shape)"
      ],
      "execution_count": 6,
      "outputs": [
        {
          "output_type": "stream",
          "text": [
            "(11314, 999239)\n",
            "(7532, 999239)\n"
          ],
          "name": "stdout"
        }
      ]
    },
    {
      "cell_type": "code",
      "metadata": {
        "colab": {
          "base_uri": "https://localhost:8080/"
        },
        "id": "Q_sLqs3SFCJR",
        "outputId": "a5973f86-899c-4f23-9edd-f1c5736cfc4c"
      },
      "source": [
        "freq_vect = CountVectorizer(ngram_range=(1, 2), stop_words=['in','of','at','a','the'])\n",
        "x_train_freq = freq_vect.fit_transform(newsgroups_train.data)\n",
        "print(x_train_freq.shape)\n",
        "x_test_freq = freq_vect.transform(newsgroups_test.data)\n",
        "print(x_test_freq.shape)"
      ],
      "execution_count": 27,
      "outputs": [
        {
          "output_type": "stream",
          "text": [
            "(11314, 999239)\n",
            "(7532, 999239)\n"
          ],
          "name": "stdout"
        }
      ]
    },
    {
      "cell_type": "code",
      "metadata": {
        "colab": {
          "base_uri": "https://localhost:8080/"
        },
        "id": "f_3Oy88cFC27",
        "outputId": "54c75f82-a0a4-4b4b-b427-f4f56fe12d87"
      },
      "source": [
        "from sklearn.feature_extraction.text import TfidfVectorizer\n",
        "tfidf_vect = TfidfVectorizer(ngram_range=(1, 2), stop_words=['in','of','at','a','the'])\n",
        "type(newsgroups_test.data)\n",
        "x_train_tfidf = tfidf_vect.fit_transform(newsgroups_train.data)\n",
        "print(x_train_tfidf.shape)\n",
        "x_test_tfidf = tfidf_vect.transform(newsgroups_test.data)\n",
        "print(x_test_tfidf.shape)"
      ],
      "execution_count": 28,
      "outputs": [
        {
          "output_type": "stream",
          "text": [
            "(11314, 999239)\n",
            "(7532, 999239)\n"
          ],
          "name": "stdout"
        }
      ]
    },
    {
      "cell_type": "markdown",
      "metadata": {
        "id": "GP_74RF4Tjif"
      },
      "source": [
        "Here are the cross validation functions cross_validation_split and kfoldCV\n"
      ]
    },
    {
      "cell_type": "code",
      "metadata": {
        "id": "W_JqgoGIQ3xo"
      },
      "source": [
        "from sklearn.linear_model import LogisticRegression\n",
        "from sklearn.metrics import accuracy_score\n",
        "\n",
        "\n",
        "def cross_validation_split(x_train,y_train,k_folds):\n",
        "  \n",
        "  #get size of validation set\n",
        "  n_val = x_train.shape[0] // k_folds\n",
        "  #initialize lists and dictionaries to store data and labels for different folds\n",
        "  full_train = []\n",
        "  full_val = []\n",
        "  #labels are stored in dictionary to prevent rounding from k_folds to store different sized arrays\n",
        "  #list works with data because it is in list of csr matrix\n",
        "  y_cv_train = {}\n",
        "  y_cv_val = {}\n",
        "  \n",
        "  \n",
        "  for f in range(k_folds):\n",
        "      tr_inds = []\n",
        "      #get the validation indexes\n",
        "      val_inds = list(range(f * n_val, (f+1)*n_val))\n",
        "      #get the train indexes\n",
        "      if f > 0:\n",
        "          tr_inds = list(range(f*n_val))\n",
        "      if f < k_folds - 1:\n",
        "          tr_inds = tr_inds + list(range((f+1)*n_val, x_train.shape[0]))\n",
        "      \n",
        "      #store training data\n",
        "      x_cv_train = x_train.tocsr()[tr_inds,:]\n",
        "      y_cv_train['fold_'+str(f)] = np.take(y_train,tr_inds)\n",
        "      #store validation data\n",
        "      x_cv_val = x_train.tocsr()[val_inds,:]\n",
        "      y_cv_val['fold_'+str(f)] = np.take(y_train,val_inds)\n",
        "      \n",
        "\n",
        "      full_train.append(x_cv_train)\n",
        "      full_val.append(x_cv_val)\n",
        "  return full_train, full_val, y_cv_train, y_cv_val\n",
        "\n",
        "\n",
        "#runs the cross validation\n",
        "def kfoldCV(full_train,full_val,y_cv_train,y_cv_val,model):\n",
        "  k_folds = len(full_train)\n",
        "  acc = []\n",
        "  for i in range(k_folds):\n",
        "    model.fit(full_train[i],y_cv_train['fold_'+str(i)])\n",
        "    acc.append(accuracy_score(y_cv_val['fold_'+str(i)], model.predict(full_val[i])))\n",
        "  return acc\n"
      ],
      "execution_count": 29,
      "outputs": []
    },
    {
      "cell_type": "markdown",
      "metadata": {
        "id": "z0x6hxseTttD"
      },
      "source": [
        "Here we run 5-fold validation on each of the preprocessed datasets and report the average accuracies\n"
      ]
    },
    {
      "cell_type": "code",
      "metadata": {
        "id": "p_b5llvORsk6"
      },
      "source": [
        "train_set, val_set, y_cv_train, y_cv_val = cross_validation_split(x_train,y_train,k_folds=5)\n",
        "\n",
        "logistic_reg = LogisticRegression(C=1, max_iter=1000)\n",
        "\n",
        "accuracies = kfoldCV(train_set,val_set,y_cv_train,y_cv_val,logistic_reg)\n",
        "print(accuracies)\n",
        "\n",
        "preprocess_x = [x_train, x_train_bigrams, x_train_freq, x_train_tfidf]\n",
        "logistic_reg = LogisticRegression(C=1, max_iter=1000)\n",
        "#tfidf has best accuracy\n",
        "for prepro in preprocess_x:\n",
        "\n",
        "  train_set, val_set, y_cv_train, y_cv_val = cross_validation_split(prepro,y_train,k_folds=5)  \n",
        "  accuracies = kfoldCV(train_set,val_set,y_cv_train,y_cv_val,logistic_reg)\n",
        "  print('The accuracies for each fold are: ',accuracies)\n",
        "  print('Avg accuracy: ',np.mean(accuracies))"
      ],
      "execution_count": null,
      "outputs": []
    },
    {
      "cell_type": "code",
      "metadata": {
        "id": "G8jAFWFsxeuT"
      },
      "source": [
        "from sklearn.linear_model import LogisticRegression\n",
        "from sklearn.metrics import accuracy_score\n",
        "\n",
        "c_list = [0.01,0.1,1,10,100]\n",
        "max_iter_list = [1000]\n",
        "mean_acc_list = []\n",
        "train_set, val_set, y_cv_train, y_cv_val = cross_validation_split(x_train,y_train,k_folds=5)\n",
        "\n",
        "for c in c_list:\n",
        "  for max_i in max_iter_list:\n",
        "    #hyperparameter tuning\n",
        "    logistic_reg = LogisticRegression(C=c,max_iter=max_i)\n",
        "    acc = kfoldCV(train_set,val_set,y_cv_train,y_cv_val,logistic_reg)\n",
        "    mean_acc = np.mean(acc)\n",
        "    mean_acc_list.append(mean_acc)\n",
        "    print('For hyperparameters C=',c,' and max_iter=',max_i,'5-fold CV accuracy is ',mean_acc)\n"
      ],
      "execution_count": null,
      "outputs": []
    },
    {
      "cell_type": "code",
      "metadata": {
        "colab": {
          "base_uri": "https://localhost:8080/",
          "height": 945
        },
        "id": "Wy1QAJHzEvcp",
        "outputId": "1aae64c5-6a86-40c8-c824-f28d6203846a"
      },
      "source": [
        "from sklearn.linear_model import LogisticRegression\n",
        "from sklearn.metrics import accuracy_score\n",
        "\n",
        "\n",
        "\n",
        "c_list = [0.001,0.01,0.1,1,10,100,1000]\n",
        "max_iter_list = [1000]\n",
        "solvers = ['lbfgs','saga']\n",
        "mean_accs = np.zeros([len(solvers), len(c_list)])\n",
        "std_accs = np.zeros([len(solvers), len(c_list)])\n",
        "\n",
        "train_set, val_set, y_cv_train, y_cv_val = cross_validation_split(x_train_tfidf,y_train,k_folds=5)\n",
        "\n",
        "\n",
        "for i,c in enumerate(c_list):\n",
        "  for j,sol in enumerate(solvers):\n",
        "    #hyperparameter tuning\n",
        "    #print(c)\n",
        "    #print(max_i)\n",
        "    if sol == 'saga':\n",
        "      train_set_sc = [csr_mat / csr_mat.max() for csr_mat in train_set]\n",
        "      print(train_set_sc[0].max())\n",
        "      val_set_sc = [csr_mat / csr_mat.max() for csr_mat in val_set]\n",
        "      print(val_set_sc[0].max())\n",
        "      logistic_reg = LogisticRegression(C=c,max_iter=1000,solver=sol)\n",
        "      acc = kfoldCV(train_set_sc,val_set_sc,y_cv_train,y_cv_val,logistic_reg)\n",
        "    else:\n",
        "      logistic_reg = LogisticRegression(C=c,max_iter=1000,solver=sol)\n",
        "      acc = kfoldCV(train_set,val_set,y_cv_train,y_cv_val,logistic_reg)\n",
        "    #print(acc)\n",
        "    mean_acc = np.mean(acc)\n",
        "    mean_accs[j,i] = mean_acc\n",
        "    std_accs[j,i] = np.std(acc)\n",
        "\n",
        "    print('For hyperparameters C=',c,' and solver=',sol,'5-fold CV accuracy is ',mean_acc)\n",
        "\n",
        "import matplotlib.pyplot as plt\n",
        "from google.colab import files\n",
        "print(mean_accs)\n",
        "print(std_accs)\n",
        "\n",
        "plt.errorbar(c_list,mean_accs[0],std_accs[0],label='lbfgs')\n",
        "plt.errorbar(c_list,mean_accs[1],std_accs[1],label='saga')\n",
        "plt.xscale('log')\n",
        "plt.ylabel('Accuracy')\n",
        "plt.xlabel('C')\n",
        "plt.title('Logistic Regression accuracy vs \\'c\\' for different solvers (IMDB)')\n",
        "plt.legend()\n",
        "plt.savefig('logreg_hyper1.png')\n",
        "files.download('logreg_hyper1.png') \n",
        "#lbfgs with 0.75\n",
        "#saga with 74.89\n",
        "#both optimal at c=1000\n",
        "#makes sense less regularization because model must be complex given multinomial"
      ],
      "execution_count": null,
      "outputs": [
        {
          "output_type": "stream",
          "text": [
            "For hyperparameters C= 0.001  and solver= lbfgs 5-fold CV accuracy is  0.05720601237842617\n",
            "1.0\n",
            "1.0\n",
            "For hyperparameters C= 0.001  and solver= saga 5-fold CV accuracy is  0.057736516357206016\n",
            "For hyperparameters C= 0.01  and solver= lbfgs 5-fold CV accuracy is  0.22740937223695848\n",
            "1.0\n",
            "1.0\n",
            "For hyperparameters C= 0.01  and solver= saga 5-fold CV accuracy is  0.2271441202475685\n",
            "For hyperparameters C= 0.1  and solver= lbfgs 5-fold CV accuracy is  0.5662245800176834\n",
            "1.0\n",
            "1.0\n",
            "For hyperparameters C= 0.1  and solver= saga 5-fold CV accuracy is  0.5660477453580902\n",
            "For hyperparameters C= 1  and solver= lbfgs 5-fold CV accuracy is  0.7029177718832892\n",
            "1.0\n",
            "1.0\n",
            "For hyperparameters C= 1  and solver= saga 5-fold CV accuracy is  0.7033598585322723\n",
            "For hyperparameters C= 10  and solver= lbfgs 5-fold CV accuracy is  0.7395225464190982\n",
            "1.0\n",
            "1.0\n",
            "For hyperparameters C= 10  and solver= saga 5-fold CV accuracy is  0.7400530503978779\n",
            "For hyperparameters C= 100  and solver= lbfgs 5-fold CV accuracy is  0.7472148541114059\n",
            "1.0\n",
            "1.0\n",
            "For hyperparameters C= 100  and solver= saga 5-fold CV accuracy is  0.7472148541114059\n",
            "For hyperparameters C= 1000  and solver= lbfgs 5-fold CV accuracy is  0.7500442086648984\n",
            "1.0\n",
            "1.0\n"
          ],
          "name": "stdout"
        },
        {
          "output_type": "stream",
          "text": [
            "/usr/local/lib/python3.7/dist-packages/sklearn/linear_model/_sag.py:330: ConvergenceWarning: The max_iter was reached which means the coef_ did not converge\n",
            "  \"the coef_ did not converge\", ConvergenceWarning)\n"
          ],
          "name": "stderr"
        },
        {
          "output_type": "stream",
          "text": [
            "For hyperparameters C= 1000  and solver= saga 5-fold CV accuracy is  0.7489832007073385\n",
            "[[0.05720601 0.22740937 0.56622458 0.70291777 0.73952255 0.74721485\n",
            "  0.75004421]\n",
            " [0.05773652 0.22714412 0.56604775 0.70335986 0.74005305 0.74721485\n",
            "  0.7489832 ]]\n",
            "[[0.02184033 0.02024081 0.01726607 0.01001499 0.00662481 0.00580734\n",
            "  0.00536803]\n",
            " [0.02267797 0.02075718 0.01794589 0.01010049 0.00644901 0.00595358\n",
            "  0.00527104]]\n"
          ],
          "name": "stdout"
        },
        {
          "output_type": "display_data",
          "data": {
            "application/javascript": [
              "\n",
              "    async function download(id, filename, size) {\n",
              "      if (!google.colab.kernel.accessAllowed) {\n",
              "        return;\n",
              "      }\n",
              "      const div = document.createElement('div');\n",
              "      const label = document.createElement('label');\n",
              "      label.textContent = `Downloading \"${filename}\": `;\n",
              "      div.appendChild(label);\n",
              "      const progress = document.createElement('progress');\n",
              "      progress.max = size;\n",
              "      div.appendChild(progress);\n",
              "      document.body.appendChild(div);\n",
              "\n",
              "      const buffers = [];\n",
              "      let downloaded = 0;\n",
              "\n",
              "      const channel = await google.colab.kernel.comms.open(id);\n",
              "      // Send a message to notify the kernel that we're ready.\n",
              "      channel.send({})\n",
              "\n",
              "      for await (const message of channel.messages) {\n",
              "        // Send a message to notify the kernel that we're ready.\n",
              "        channel.send({})\n",
              "        if (message.buffers) {\n",
              "          for (const buffer of message.buffers) {\n",
              "            buffers.push(buffer);\n",
              "            downloaded += buffer.byteLength;\n",
              "            progress.value = downloaded;\n",
              "          }\n",
              "        }\n",
              "      }\n",
              "      const blob = new Blob(buffers, {type: 'application/binary'});\n",
              "      const a = document.createElement('a');\n",
              "      a.href = window.URL.createObjectURL(blob);\n",
              "      a.download = filename;\n",
              "      div.appendChild(a);\n",
              "      a.click();\n",
              "      div.remove();\n",
              "    }\n",
              "  "
            ],
            "text/plain": [
              "<IPython.core.display.Javascript object>"
            ]
          },
          "metadata": {
            "tags": []
          }
        },
        {
          "output_type": "display_data",
          "data": {
            "application/javascript": [
              "download(\"download_9746b38c-dfe3-4e54-be82-bf3850bd956b\", \"logreg_hyper1.png\", 15754)"
            ],
            "text/plain": [
              "<IPython.core.display.Javascript object>"
            ]
          },
          "metadata": {
            "tags": []
          }
        },
        {
          "output_type": "display_data",
          "data": {
            "image/png": "[encoded data removed]",
            "text/plain": [
              "<Figure size 432x288 with 1 Axes>"
            ]
          },
          "metadata": {
            "tags": [],
            "needs_background": "light"
          }
        }
      ]
    },
    {
      "cell_type": "markdown",
      "metadata": {
        "id": "474aV70WUKsH"
      },
      "source": [
        "Running on test set (switch preprocessing method to whichever set you want to train your data on)"
      ]
    },
    {
      "cell_type": "code",
      "metadata": {
        "colab": {
          "base_uri": "https://localhost:8080/"
        },
        "id": "Qm2-p30aMMdU",
        "outputId": "b1a464d5-8329-420f-d82c-2a412dc06586"
      },
      "source": [
        "from sklearn.feature_extraction.text import TfidfVectorizer\n",
        "tfidf_vect = TfidfVectorizer(ngram_range=(1, 2), stop_words=['in','of','at','a','the'],use_idf=True)\n",
        "type(newsgroups_test.data)\n",
        "x_train_tfidf = tfidf_vect.fit_transform(newsgroups_train.data)\n",
        "print(x_train_tfidf.shape)\n",
        "x_test_tfidf = tfidf_vect.transform(newsgroups_test.data)\n",
        "print(x_test_tfidf.shape)\n",
        "\n",
        "def confusion_matrix(y, yh):\n",
        "    n_classes = np.max(y) + 1\n",
        "    c_matrix = np.zeros((n_classes, n_classes))\n",
        "    for c1 in range(n_classes):\n",
        "        for c2 in range(n_classes):\n",
        "        #(y==c1)*(yh==c2) is 1 when both conditions are true or 0\n",
        "            c_matrix[c1, c2] = np.sum((y==c1)*(yh==c2))\n",
        "    return c_matrix\n",
        "\n",
        "#C=10 and 1000 are close enough in accuracy and it seems like C=1000 takes forever to run\n",
        "logistic_reg = LogisticRegression(C=10,max_iter=1000)\n",
        "logistic_reg.fit(x_train_tfidf,y_train)\n",
        "yhat = logistic_reg.predict(x_test_tfidf)\n",
        "acc_test = accuracy_score(y_test,yhat)\n",
        "print(acc_test)\n",
        "\n",
        "#c_mat = confusion_matrix(y_test, yhat)\n",
        "\n",
        "#print(c_mat)"
      ],
      "execution_count": 30,
      "outputs": [
        {
          "output_type": "stream",
          "text": [
            "(11314, 999239)\n",
            "(7532, 999239)\n",
            "0.6841476367498672\n"
          ],
          "name": "stdout"
        }
      ]
    },
    {
      "cell_type": "markdown",
      "metadata": {
        "id": "OamnQ96CVhYv"
      },
      "source": [
        "Getting average recalls and precisions since it's multiclass"
      ]
    },
    {
      "cell_type": "code",
      "metadata": {
        "colab": {
          "base_uri": "https://localhost:8080/"
        },
        "id": "ExFasFGVEi_b",
        "outputId": "26cb0af5-c30c-48c5-ccde-26e996695599"
      },
      "source": [
        "from sklearn.metrics import precision_recall_curve\n",
        "from sklearn.metrics import average_precision_score\n",
        "\n",
        "\n",
        "\n",
        "c_mat = confusion_matrix(y_test, yhat)\n",
        "\n",
        "recall = np.diag(c_mat) / np.sum(c_mat, axis = 1)\n",
        "precision = np.diag(c_mat) / np.sum(c_mat, axis = 0)\n",
        "\n",
        "print(np.mean(recall))\n",
        "print(np.mean(precision))\n",
        "\n"
      ],
      "execution_count": 17,
      "outputs": [
        {
          "output_type": "stream",
          "text": [
            "0.6715901832556015\n",
            "0.6860747009121253\n"
          ],
          "name": "stdout"
        }
      ]
    },
    {
      "cell_type": "code",
      "metadata": {
        "colab": {
          "base_uri": "https://localhost:8080/",
          "height": 279
        },
        "id": "Ku7a_1orY1lj",
        "outputId": "cad5b820-2bec-468b-feb8-4ed9477d3fa4"
      },
      "source": [
        "from sklearn.metrics import plot_confusion_matrix\n",
        "from google.colab import files\n",
        "\n",
        "disp = plot_confusion_matrix(logistic_reg,x_test_tfidf,y_test,include_values=False,normalize='true')\n",
        "#disp.plot()\n",
        "plt.savefig('confusion_mat_newsg.png')\n",
        "files.download('confusion_mat_newsg.png') "
      ],
      "execution_count": 31,
      "outputs": [
        {
          "output_type": "display_data",
          "data": {
            "application/javascript": [
              "\n",
              "    async function download(id, filename, size) {\n",
              "      if (!google.colab.kernel.accessAllowed) {\n",
              "        return;\n",
              "      }\n",
              "      const div = document.createElement('div');\n",
              "      const label = document.createElement('label');\n",
              "      label.textContent = `Downloading \"${filename}\": `;\n",
              "      div.appendChild(label);\n",
              "      const progress = document.createElement('progress');\n",
              "      progress.max = size;\n",
              "      div.appendChild(progress);\n",
              "      document.body.appendChild(div);\n",
              "\n",
              "      const buffers = [];\n",
              "      let downloaded = 0;\n",
              "\n",
              "      const channel = await google.colab.kernel.comms.open(id);\n",
              "      // Send a message to notify the kernel that we're ready.\n",
              "      channel.send({})\n",
              "\n",
              "      for await (const message of channel.messages) {\n",
              "        // Send a message to notify the kernel that we're ready.\n",
              "        channel.send({})\n",
              "        if (message.buffers) {\n",
              "          for (const buffer of message.buffers) {\n",
              "            buffers.push(buffer);\n",
              "            downloaded += buffer.byteLength;\n",
              "            progress.value = downloaded;\n",
              "          }\n",
              "        }\n",
              "      }\n",
              "      const blob = new Blob(buffers, {type: 'application/binary'});\n",
              "      const a = document.createElement('a');\n",
              "      a.href = window.URL.createObjectURL(blob);\n",
              "      a.download = filename;\n",
              "      div.appendChild(a);\n",
              "      a.click();\n",
              "      div.remove();\n",
              "    }\n",
              "  "
            ],
            "text/plain": [
              "<IPython.core.display.Javascript object>"
            ]
          },
          "metadata": {
            "tags": []
          }
        },
        {
          "output_type": "display_data",
          "data": {
            "application/javascript": [
              "download(\"download_c0999a39-e91f-4178-88d7-c5ae91f33d5e\", \"confusion_mat_newsg.png\", 15692)"
            ],
            "text/plain": [
              "<IPython.core.display.Javascript object>"
            ]
          },
          "metadata": {
            "tags": []
          }
        },
        {
          "output_type": "display_data",
          "data": {
            "image/png": "[encoded data removed]",
            "text/plain": [
              "<Figure size 432x288 with 2 Axes>"
            ]
          },
          "metadata": {
            "tags": [],
            "needs_background": "light"
          }
        }
      ]
    },
    {
      "cell_type": "markdown",
      "metadata": {
        "id": "AdkLwapjVrOb"
      },
      "source": [
        "Graph that shows accuracy vs training set size"
      ]
    },
    {
      "cell_type": "code",
      "metadata": {
        "colab": {
          "base_uri": "https://localhost:8080/",
          "height": 295
        },
        "id": "-ZJsAC46plNK",
        "outputId": "1e68ae92-e1d5-4fbd-d974-b6aad6f97265"
      },
      "source": [
        "# Split the training set into different sizes\n",
        "def size_split(x_train, y_train, n_test_list):\n",
        "  x_train_sizes_list = []\n",
        "  y_train_sizes_list = []\n",
        "  for n in n_test_list:\n",
        "    num_instances = x_train.shape[0]\n",
        "    inds = np.random.permutation(num_instances)\n",
        "    n_test = int(num_instances*n) - 1\n",
        "    \n",
        "    #shuffle the data\n",
        "    x_train_sizes = x_train.tocsr()[inds,]\n",
        "    y_train_sizes = y_train[inds]\n",
        "\n",
        "    #store data\n",
        "    x_train_sizes = x_train_sizes[:n_test,:]\n",
        "    x_train_sizes_list.append(x_train_sizes)\n",
        "\n",
        "    y_train_sizes = y_train_sizes[:n_test]\n",
        "    y_train_sizes_list.append(y_train_sizes)\n",
        "\n",
        "  return x_train_sizes_list, y_train_sizes_list\n",
        "\n",
        "\n",
        "n_sizes = [0.2, 0.4, 0.6, 0.8, 1]\n",
        "x_train_sizes_list, y_train_sizes_list = size_split(x_train_tfidf, y_train, n_test_list=n_sizes)\n",
        "\n",
        "from sklearn.linear_model import LogisticRegression\n",
        "from sklearn.metrics import accuracy_score\n",
        "from sklearn.model_selection import train_test_split\n",
        "\n",
        "err_test = []\n",
        "\n",
        "for i in range(len(x_train_sizes_list)):\n",
        "\n",
        "    logistic_reg = LogisticRegression(multi_class='multinomial', C=100, max_iter = 1000)\n",
        "    logistic_reg.fit(x_train_sizes_list[i], y_train_sizes_list[i])\n",
        "    err_test.append(accuracy_score(y_test, logistic_reg.predict(x_test_tfidf)))\n",
        "\n",
        "plt.plot(n_sizes, err_test, '-')\n",
        "#plt.legend()\n",
        "plt.xlabel('size of the training dataset')\n",
        "plt.ylabel('accuracy')\n",
        "plt.title('Accuracy as a function of fraction of total training set size')\n",
        "plt.savefig('accvssize_newsg.png')\n",
        "files.download('accvssize_newsg.png') \n"
      ],
      "execution_count": 24,
      "outputs": [
        {
          "output_type": "display_data",
          "data": {
            "application/javascript": [
              "\n",
              "    async function download(id, filename, size) {\n",
              "      if (!google.colab.kernel.accessAllowed) {\n",
              "        return;\n",
              "      }\n",
              "      const div = document.createElement('div');\n",
              "      const label = document.createElement('label');\n",
              "      label.textContent = `Downloading \"${filename}\": `;\n",
              "      div.appendChild(label);\n",
              "      const progress = document.createElement('progress');\n",
              "      progress.max = size;\n",
              "      div.appendChild(progress);\n",
              "      document.body.appendChild(div);\n",
              "\n",
              "      const buffers = [];\n",
              "      let downloaded = 0;\n",
              "\n",
              "      const channel = await google.colab.kernel.comms.open(id);\n",
              "      // Send a message to notify the kernel that we're ready.\n",
              "      channel.send({})\n",
              "\n",
              "      for await (const message of channel.messages) {\n",
              "        // Send a message to notify the kernel that we're ready.\n",
              "        channel.send({})\n",
              "        if (message.buffers) {\n",
              "          for (const buffer of message.buffers) {\n",
              "            buffers.push(buffer);\n",
              "            downloaded += buffer.byteLength;\n",
              "            progress.value = downloaded;\n",
              "          }\n",
              "        }\n",
              "      }\n",
              "      const blob = new Blob(buffers, {type: 'application/binary'});\n",
              "      const a = document.createElement('a');\n",
              "      a.href = window.URL.createObjectURL(blob);\n",
              "      a.download = filename;\n",
              "      div.appendChild(a);\n",
              "      a.click();\n",
              "      div.remove();\n",
              "    }\n",
              "  "
            ],
            "text/plain": [
              "<IPython.core.display.Javascript object>"
            ]
          },
          "metadata": {
            "tags": []
          }
        },
        {
          "output_type": "display_data",
          "data": {
            "application/javascript": [
              "download(\"download_b4c571b0-77c6-4830-ae81-8216f7d926a4\", \"accvssize_newsg.png\", 17457)"
            ],
            "text/plain": [
              "<IPython.core.display.Javascript object>"
            ]
          },
          "metadata": {
            "tags": []
          }
        },
        {
          "output_type": "display_data",
          "data": {
            "image/png": "[encoded data removed]",
            "text/plain": [
              "<Figure size 432x288 with 1 Axes>"
            ]
          },
          "metadata": {
            "tags": [],
            "needs_background": "light"
          }
        }
      ]
    }
  ]
}