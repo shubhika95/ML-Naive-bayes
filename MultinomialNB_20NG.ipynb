{
 "cells": [
  {
   "cell_type": "markdown",
   "metadata": {},
   "source": [
    "# Multinomial Naive Bayes for 20newsgroup data"
   ]
  },
  {
   "cell_type": "markdown",
   "metadata": {},
   "source": [
    "The model here works with the 20newsgroups data from the ML repository from the following mentioned url:\n",
    "https://archive.ics.uci.edu/ml/machine-learning-databases/20newsgroups-mld/20_newsgroups.tar.gz\n",
    "\n",
    "The self implemented multinomial naive bayes model implemented here works on first 5000 frequent words, in order to reduce the size of sparse matrix in this implementation.\n",
    "\n",
    "The model works with almost same frequency for the range of 2000-5000 frequent words. When we decrease the feature further for the learning of model, the accuracy decreases as we notice in the distribution of size VS accuracy. When we increase the number of features over 5000 words, the computational complexity of model increases, which sometimes crashes the kernel. \n",
    "The model for entire feature works with similar accuracy for our self-implemented multinomialNB model and with sklearn.multinomialNB.\n",
    "\n",
    "But when all the features are include here, the sklearn.multinomialNB works perfectly fine, but our model gives warning that \"the sparse matrix for the feature is ambiguous\" and crashes the kernel.\n",
    "Hence, we included the threshold to limit the feature and reduce the size of our sparse matrix.\n",
    "For future work, other features of nltk library could be involved to reduce the features along with the nltk.stopwords. For eg:\n",
    "nltk stemming and nltk lemmatisation.\n",
    "\n",
    "The data exploration of 20newsgroups is displayed in Bernoulli Naive Bayes Model"
   ]
  },
  {
   "cell_type": "code",
   "execution_count": 1,
   "metadata": {
    "colab": {},
    "colab_type": "code",
    "id": "ETKSGEGU_EYU"
   },
   "outputs": [],
   "source": [
    "#importing modules\n",
    "import os\n",
    "import codecs\n",
    "import numpy as np\n",
    "import string\n",
    "import pandas as pd"
   ]
  },
  {
   "cell_type": "markdown",
   "metadata": {
    "colab_type": "text",
    "id": "jGq78nAZr9ND"
   },
   "source": [
    "# **Data Preprocessing**"
   ]
  },
  {
   "cell_type": "code",
   "execution_count": 2,
   "metadata": {
    "colab": {},
    "colab_type": "code",
    "id": "4e2pi7u6CH39"
   },
   "outputs": [],
   "source": [
    "#downloading and extracting the files on our server\n",
    "import urllib.request\n",
    "urllib.request.urlretrieve (\"https://archive.ics.uci.edu/ml/machine-learning-databases/20newsgroups-mld/20_newsgroups.tar.gz\", \"a.tar.gz\")\n",
    "import tarfile\n",
    "tar = tarfile.open(\"a.tar.gz\")\n",
    "tar.extractall()\n",
    "tar.close()"
   ]
  },
  {
   "cell_type": "code",
   "execution_count": 3,
   "metadata": {
    "colab": {
     "base_uri": "https://localhost:8080/",
     "height": 34
    },
    "colab_type": "code",
    "id": "4k_0llvo_EYX",
    "outputId": "22bad58e-b34a-43d9-b6e5-d2d0d9a812b4"
   },
   "outputs": [
    {
     "data": {
      "text/plain": [
       "19997"
      ]
     },
     "execution_count": 3,
     "metadata": {},
     "output_type": "execute_result"
    }
   ],
   "source": [
    "#making a list of all the file paths and their corresponding class\n",
    "f_paths=[]\n",
    "i=-1\n",
    "path=\"20_newsgroups\"\n",
    "folderlist=os.listdir(path)\n",
    "if \".DS_Store\" in folderlist:\n",
    "  folderlist.remove('.DS_Store')\n",
    "for folder in folderlist:\n",
    "  i+=1\n",
    "  filelist=os.listdir(path+'/'+folder)\n",
    "  for file in filelist:\n",
    "    f_paths.append((path+'/'+folder+'/'+file,i))\n",
    "len(f_paths)"
   ]
  },
  {
   "cell_type": "code",
   "execution_count": 4,
   "metadata": {
    "colab": {
     "base_uri": "https://localhost:8080/",
     "height": 34
    },
    "colab_type": "code",
    "id": "fU1RzKP1yyPp",
    "outputId": "c0975a57-4f16-4d5b-bf67-7d72f3b8ba7f"
   },
   "outputs": [
    {
     "data": {
      "text/plain": [
       "(14997, 5000)"
      ]
     },
     "execution_count": 4,
     "metadata": {},
     "output_type": "execute_result"
    }
   ],
   "source": [
    "#splitting the list of paths into training and testing data\n",
    "from sklearn import model_selection\n",
    "x_train,x_test=model_selection.train_test_split(f_paths)\n",
    "len(x_train),len(x_test)"
   ]
  },
  {
   "cell_type": "code",
   "execution_count": 5,
   "metadata": {
    "colab": {
     "base_uri": "https://localhost:8080/",
     "height": 34
    },
    "colab_type": "code",
    "id": "O_8VmW_fzvO5",
    "outputId": "5beb67da-20f7-4f7a-f4bf-d9e3ed5739c9"
   },
   "outputs": [
    {
     "data": {
      "text/plain": [
       "((14997,), (5000,))"
      ]
     },
     "execution_count": 5,
     "metadata": {},
     "output_type": "execute_result"
    }
   ],
   "source": [
    "#Making the lists X_train and X_test containg only the paths of the files in training and testing data\n",
    "#First making lists Y_train and Y_test containing the classes of the training and testing data\n",
    "X_train=[]\n",
    "X_test=[]\n",
    "Y_train=[]\n",
    "Y_test=[]\n",
    "for i in range(len(x_train)):\n",
    "  X_train.append(x_train[i][0])\n",
    "  Y_train.append(x_train[i][1])\n",
    "for i in range(len(x_test)):\n",
    "  X_test.append(x_test[i][0])\n",
    "  Y_test.append(x_test[i][1])\n",
    "#Transforming Y_train and Y_test into 1 dimensional np arrays\n",
    "Y_train=(np.array([Y_train])).reshape(-1)\n",
    "Y_test=(np.array([Y_test])).reshape(-1)\n",
    "#shape of Y_train and Y_test np arrays\n",
    "Y_train.shape,Y_test.shape"
   ]
  },
  {
   "cell_type": "code",
   "execution_count": 6,
   "metadata": {
    "colab": {
     "base_uri": "https://localhost:8080/",
     "height": 51
    },
    "colab_type": "code",
    "id": "D4sbNla-Zjf-",
    "outputId": "49dc2099-d159-446d-f8bd-1bdbfdbd916b"
   },
   "outputs": [
    {
     "name": "stderr",
     "output_type": "stream",
     "text": [
      "[nltk_data] Downloading package stopwords to\n",
      "[nltk_data]     C:\\Users\\Admin\\AppData\\Roaming\\nltk_data...\n",
      "[nltk_data]   Package stopwords is already up-to-date!\n"
     ]
    }
   ],
   "source": [
    "import nltk\n",
    "nltk.download('stopwords')\n",
    "from nltk.corpus import stopwords\n",
    "stop=set(stopwords.words(\"english\"))"
   ]
  },
  {
   "cell_type": "code",
   "execution_count": 7,
   "metadata": {
    "colab": {
     "base_uri": "https://localhost:8080/",
     "height": 34
    },
    "colab_type": "code",
    "id": "I1IWj03cZcz9",
    "outputId": "28cafc7d-37c1-4eac-8bba-cba8fb478fc3"
   },
   "outputs": [
    {
     "data": {
      "text/plain": [
       "211"
      ]
     },
     "execution_count": 7,
     "metadata": {},
     "output_type": "execute_result"
    }
   ],
   "source": [
    "#adding all the above lists and including punctuations to stop words\n",
    "stop_words=list(stop)+list(set(string.punctuation))\n",
    "len(stop_words)"
   ]
  },
  {
   "cell_type": "code",
   "execution_count": 8,
   "metadata": {
    "colab": {},
    "colab_type": "code",
    "id": "rxf9J4g4_EYf"
   },
   "outputs": [],
   "source": [
    "#making vocabulary from the files in X_train i.e. training data\n",
    "vocab={}\n",
    "count =0\n",
    "for filename in X_train:\n",
    "  count+=1\n",
    "  f = open(filename,'r',errors='ignore')\n",
    "  record=f.read()\n",
    "  words=record.split()\n",
    "  for word in words:\n",
    "    if len(word)>2:\n",
    "      if word.lower() not in stop_words:\n",
    "        if word.lower() in vocab:\n",
    "          vocab[word.lower()]+=1\n",
    "        else:\n",
    "          vocab[word.lower()]=1\n",
    "  f.close()"
   ]
  },
  {
   "cell_type": "code",
   "execution_count": 9,
   "metadata": {
    "colab": {
     "base_uri": "https://localhost:8080/",
     "height": 34
    },
    "colab_type": "code",
    "id": "rl5HJz0-_EYk",
    "outputId": "aeab1391-fe2a-475f-8bbf-aba0943b9910"
   },
   "outputs": [
    {
     "data": {
      "text/plain": [
       "355102"
      ]
     },
     "execution_count": 9,
     "metadata": {},
     "output_type": "execute_result"
    }
   ],
   "source": [
    "#length of the vocabulary\n",
    "len(vocab)"
   ]
  },
  {
   "cell_type": "code",
   "execution_count": 10,
   "metadata": {
    "colab": {},
    "colab_type": "code",
    "id": "w0G8_FDc_EYn"
   },
   "outputs": [],
   "source": [
    "#sorting the vocabulary on the basis of the frequency of the word\n",
    "#making the sorted vocabulary\n",
    "import operator\n",
    "sorted_vocab = sorted(vocab.items(), key= operator.itemgetter(1), reverse= True)   # sort the vocab based on frequency"
   ]
  },
  {
   "cell_type": "code",
   "execution_count": 11,
   "metadata": {
    "colab": {},
    "colab_type": "code",
    "id": "AoK5V6zY_EYo"
   },
   "outputs": [],
   "source": [
    "#making the list feature_names containg the words with the frequency of the top 2000 words\n",
    "feature_names = []\n",
    "for i in range(len(sorted_vocab)):\n",
    "    if(sorted_vocab[5000][1] <= sorted_vocab[i][1]):\n",
    "        feature_names.append(sorted_vocab[i][0])"
   ]
  },
  {
   "cell_type": "code",
   "execution_count": 12,
   "metadata": {
    "colab": {
     "base_uri": "https://localhost:8080/",
     "height": 34
    },
    "colab_type": "code",
    "id": "iUuVWVOO_EYr",
    "outputId": "bcdaef8d-6962-4381-c647-9ca110191733"
   },
   "outputs": [
    {
     "name": "stdout",
     "output_type": "stream",
     "text": [
      "5050\n"
     ]
    }
   ],
   "source": [
    "#length of the feature_names i.e. number of our features\n",
    "print(len(feature_names))"
   ]
  },
  {
   "cell_type": "code",
   "execution_count": 13,
   "metadata": {
    "colab": {},
    "colab_type": "code",
    "id": "5LvFD1r8_EYt"
   },
   "outputs": [],
   "source": [
    "#making dataframes df_train and df_test with columns having the feature names i.e. the words\n",
    "df_train=pd.DataFrame(columns=feature_names)\n",
    "df_test=pd.DataFrame(columns=feature_names)"
   ]
  },
  {
   "cell_type": "code",
   "execution_count": 14,
   "metadata": {
    "colab": {
     "base_uri": "https://localhost:8080/",
     "height": 34
    },
    "colab_type": "code",
    "id": "v5GbdNAY_EYw",
    "outputId": "831eefb5-e743-4bfd-8153-0cd8367c93ee"
   },
   "outputs": [
    {
     "name": "stdout",
     "output_type": "stream",
     "text": [
      "14997 5000\n"
     ]
    }
   ],
   "source": [
    "count_train,count_test=0,0\n",
    "\n",
    "#transforming each file in X_train into a row in the dataframe df_train having columns as feature names and values as the frequency of that feature name i.e that word\n",
    "for filename in X_train:\n",
    "  count_train+=1\n",
    "  #adding a row of zeros for each file\n",
    "  df_train.loc[len(df_train)]=np.zeros(len(feature_names))\n",
    "  f = open(filename,'r',errors='ignore')\n",
    "  record=f.read()\n",
    "  words=record.split()\n",
    "  #parsing through all the words of the file\n",
    "  for word in words:\n",
    "    if word.lower() in df_train.columns:\n",
    "      df_train[word.lower()][len(df_train)-1]+=1 #if the word is in the column names then adding 1 to the frequency of that word in the row\n",
    "  f.close()\n",
    "  \n",
    "#transforming each file in X_test into a row in the dataframe df_test having columns as feature names and values as the frequency of that feature name i.e that word  \n",
    "for filename in X_test:\n",
    "  count_test+=1\n",
    "  #adding a row of zeros for each file\n",
    "  df_test.loc[len(df_test)]=np.zeros(len(feature_names))\n",
    "  f = open(filename,'r',errors='ignore')\n",
    "  record=f.read()\n",
    "  words=record.split()\n",
    "  #parsing through all the words of the file\n",
    "  for word in words:\n",
    "    if word.lower() in df_test.columns:\n",
    "      df_test[word.lower()][len(df_test)-1]+=1 #if the word is in the column names then adding 1 to the frequency of that word in the row\n",
    "  f.close()\n",
    "  \n",
    "#printing the number files tranformed in training and testing data\n",
    "print(count_train,count_test)"
   ]
  },
  {
   "cell_type": "code",
   "execution_count": 15,
   "metadata": {
    "colab": {},
    "colab_type": "code",
    "id": "u2LneYsIdbyy"
   },
   "outputs": [],
   "source": [
    "#putting the values of the datafames into X_train and X_test\n",
    "X_train=df_train.values\n",
    "X_test=df_test.values"
   ]
  },
  {
   "cell_type": "markdown",
   "metadata": {
    "colab_type": "text",
    "id": "bjXYNE_2Mk4f"
   },
   "source": [
    "# **Self implemented Multinomial Naive Bayes**"
   ]
  },
  {
   "cell_type": "code",
   "execution_count": 16,
   "metadata": {
    "colab": {},
    "colab_type": "code",
    "id": "aoMoTUv4MvGx"
   },
   "outputs": [],
   "source": [
    "#makes the nested dictionary required for NB using the training data\n",
    "def fit(X,Y):\n",
    "    dictionary={}\n",
    "    y_classes=set(Y)\n",
    "    #iterating over each class of y\n",
    "    for y_class in y_classes:\n",
    "        #adding the class as a key to the dictionary\n",
    "        dictionary[y_class]={}\n",
    "        n_features=X.shape[1]\n",
    "        rows=(Y==y_class)\n",
    "        #making the arrays having only those rows where class is y_class\n",
    "        X_y_class=X[rows]\n",
    "        Y_y_class=Y[rows]\n",
    "        #adding the total number of files as total_data\n",
    "        dictionary[\"total_data\"]=X.shape[0]\n",
    "        #iterating over each feature\n",
    "        for i in range(n_features):\n",
    "            #adding the feature as a key which has the count of that word in Y=y_class as its value\n",
    "            dictionary[y_class][i]=X_y_class[:,i].sum()\n",
    "            #adding the total number of files as total_class\n",
    "            dictionary[y_class][\"total_class\"]=X_y_class.shape[0]\n",
    "            #adding the sum of all the words in Y=y_class i.e. total no. of words in Y=y_class\n",
    "            dictionary[y_class][\"total_words\"]=X_y_class.sum()\n",
    "    return dictionary"
   ]
  },
  {
   "cell_type": "code",
   "execution_count": 17,
   "metadata": {
    "colab": {},
    "colab_type": "code",
    "id": "e-mb2wI7kzVJ"
   },
   "outputs": [],
   "source": [
    "#calculates the probability of the feature vector belonging to a particular class and the probability of the class\n",
    "#returns the product of the above 2 probabilities\n",
    "def probability(x,dictionary,y_class):\n",
    "    #output intially has probability of the particular class in log terms\n",
    "    output=np.log(dictionary[y_class][\"total_class\"])-np.log(dictionary[\"total_data\"])\n",
    "    n_features=len(dictionary[y_class].keys())-2\n",
    "    #calculates probability of x being in a particular class by calulating probability of each word being in that class\n",
    "    for i in range(n_features):\n",
    "        if x[i]>0:\n",
    "            #probability of the ith word being in this class in terms of log\n",
    "            p_i=x[i]*(np.log(dictionary[y_class][i] + 1) - np.log(dictionary[y_class][\"total_words\"]+n_features))\n",
    "            output+=p_i\n",
    "    return output"
   ]
  },
  {
   "cell_type": "code",
   "execution_count": 18,
   "metadata": {
    "colab": {},
    "colab_type": "code",
    "id": "_jZFhRcAk11l"
   },
   "outputs": [],
   "source": [
    "#predicts the class to which a single file feature vector belongs to\n",
    "def predictSinglePoint(x,dictionary):\n",
    "    classes=dictionary.keys()\n",
    "    #contains the class having the max probability\n",
    "    best_class=1\n",
    "    #max probability\n",
    "    best_prob=-1000\n",
    "    first=True\n",
    "    #iterating over all the classes\n",
    "    for y_class in classes:\n",
    "        if y_class==\"total_data\":\n",
    "            continue\n",
    "        #finding probability of this file feature vector belonging to y_class\n",
    "        p_class=probability(x,dictionary,y_class)\n",
    "        if(first or p_class>best_prob):\n",
    "            best_prob=p_class\n",
    "            best_class=y_class\n",
    "        first=False\n",
    "    return best_class"
   ]
  },
  {
   "cell_type": "code",
   "execution_count": 19,
   "metadata": {
    "colab": {},
    "colab_type": "code",
    "id": "K7mf0zjek4mK"
   },
   "outputs": [],
   "source": [
    "#predicts the classes to which all the file feature vectors belong in the testing data\n",
    "def predict(X_test,dictionary):\n",
    "    y_pred=[]\n",
    "    #iterates over all the file feature vectors\n",
    "    for x in X_test:\n",
    "        #predicts the class of a particular file feature vector\n",
    "        x_class=predictSinglePoint(x,dictionary)\n",
    "        y_pred.append(x_class)\n",
    "    return y_pred"
   ]
  },
  {
   "cell_type": "code",
   "execution_count": 20,
   "metadata": {},
   "outputs": [
    {
     "data": {
      "text/plain": [
       "(14997,)"
      ]
     },
     "execution_count": 20,
     "metadata": {},
     "output_type": "execute_result"
    }
   ],
   "source": [
    "Y_train.shape"
   ]
  },
  {
   "cell_type": "code",
   "execution_count": 23,
   "metadata": {},
   "outputs": [
    {
     "name": "stdout",
     "output_type": "stream",
     "text": [
      "Learning with  10.0 % of training data\n",
      "Accuracy for  10.0 % sliced training set is:  0.781\n",
      "Learning with  30.0 % of training data\n",
      "Accuracy for  30.0 % sliced training set is:  0.823\n",
      "Learning with  50.0 % of training data\n",
      "Accuracy for  50.0 % sliced training set is:  0.8428\n",
      "Learning with  70.0 % of training data\n",
      "Accuracy for  70.0 % sliced training set is:  0.8506\n",
      "Learning with  90.0 % of training data\n",
      "Accuracy for  90.0 % sliced training set is:  0.862\n",
      "Learning with  100.0 % of training data\n",
      "Accuracy for  100.0 % sliced training set is:  0.8618\n"
     ]
    }
   ],
   "source": [
    "threshList = [0.1,0.3,0.5,0.7,0.9,1.0]\n",
    "acc = []\n",
    "for i in threshList:\n",
    "    print(\"Learning with \",str(i*100),\"% of training data\")\n",
    "    threshold_train = int(i*X_train.shape[0])\n",
    "    X_train_slice = X_train[:threshold_train,:]\n",
    "    Y_train_slice = Y_train[:threshold_train,]\n",
    "    dictionary=fit(X_train_slice,Y_train_slice) #makes the required dictionary for all the sliced sets, i.e., learns on different sizes of training set\n",
    "    y_pred=predict(X_test,dictionary)# predicts the classes\n",
    "    #check how many predcitions actually match original test labels\n",
    "    test_acc=np.sum(y_pred==Y_test)/float(Y_test.shape[0])\n",
    "    print(\"Accuracy for \",str(i*100),\"% sliced training set is: \",str(test_acc))\n",
    "    acc.append(test_acc)"
   ]
  },
  {
   "cell_type": "markdown",
   "metadata": {
    "colab_type": "text",
    "id": "djwGLp_BBpjl"
   },
   "source": [
    "# **Conclusions**"
   ]
  },
  {
   "cell_type": "code",
   "execution_count": 27,
   "metadata": {},
   "outputs": [
    {
     "data": {
      "image/png": "[encoded data removed]",
      "text/plain": [
       "<Figure size 432x288 with 1 Axes>"
      ]
     },
     "metadata": {
      "needs_background": "light"
     },
     "output_type": "display_data"
    }
   ],
   "source": [
    "import matplotlib.pyplot as plt\n",
    "\n",
    "acc = np.array(acc)\n",
    "thresh_size = np.array(threshList)\n",
    "plt.plot(thresh_size,acc)\n",
    "plt.xlabel(\"Size\")\n",
    "plt.ylabel(\"Accuracy\")\n",
    "plt.title(\"Size vs accuracy for 20newsgroup\")\n",
    "#plt.grid()\n",
    "plt.show()"
   ]
  },
  {
   "cell_type": "code",
   "execution_count": 43,
   "metadata": {},
   "outputs": [
    {
     "data": {
      "text/plain": [
       "array([[193,   0,   0,   0,   0,   0,   0,   0,   5,   2,   1,   1,   2,\n",
       "          2,   0,   2,   2,   2,   3,  36],\n",
       "       [  0, 200,  12,   4,   3,   9,  12,   6,   3,   1,   0,   0,   7,\n",
       "          3,   1,   0,   0,   0,   0,   0],\n",
       "       [  1,  12, 208,  10,   4,   8,   9,   1,   1,   0,   0,   1,   6,\n",
       "          0,   2,   0,   1,   0,   0,   3],\n",
       "       [  0,   2,   9, 216,   7,   4,  18,   2,   2,   0,   0,   0,   4,\n",
       "          1,   0,   0,   0,   0,   0,   0],\n",
       "       [  0,   1,   5,   7, 213,   1,   9,   1,   1,   0,   0,   0,   2,\n",
       "          0,   4,   0,   0,   0,   0,   0],\n",
       "       [  0,  12,   6,   3,   1, 208,   4,   1,   2,   0,   0,   1,   4,\n",
       "          1,   0,   0,   0,   0,   0,   0],\n",
       "       [  0,   1,   3,   3,   1,   0, 244,   5,   3,   1,   2,   1,   6,\n",
       "          0,   1,   0,   0,   0,   0,   0],\n",
       "       [  0,   0,   0,   0,   1,   0,   8, 240,   4,   0,   0,   0,   3,\n",
       "          0,   1,   0,   1,   0,   2,   0],\n",
       "       [  0,   0,   0,   0,   0,   1,   7,   4, 228,   0,   0,   0,   0,\n",
       "          1,   0,   0,   1,   0,   1,   0],\n",
       "       [  1,   0,   0,   0,   1,   0,   5,   2,   2, 232,   0,   0,   0,\n",
       "          0,   0,   0,   0,   0,   0,   0],\n",
       "       [  0,   0,   0,   0,   0,   0,   1,   0,   4,   2, 238,   0,   0,\n",
       "          0,   0,   0,   0,   0,   1,   0],\n",
       "       [  0,   4,   2,   0,   0,   2,   4,   0,   1,   0,   0, 226,   5,\n",
       "          0,   0,   0,   4,   1,   4,   2],\n",
       "       [  0,   3,   2,   4,   0,   1,   8,   4,   2,   0,   0,   0, 200,\n",
       "          1,   0,   0,   0,   0,   0,   0],\n",
       "       [  4,   2,   0,   1,   0,   1,   3,   0,   4,   0,   0,   0,   6,\n",
       "        220,   6,   0,   0,   0,   1,   1],\n",
       "       [  0,   0,   0,   0,   0,   0,   1,   3,   3,   0,   0,   0,   5,\n",
       "          3, 218,   0,   1,   0,   2,   1],\n",
       "       [  0,   0,   1,   0,   0,   0,   0,   0,   0,   0,   0,   0,   0,\n",
       "          1,   0, 221,   0,   0,   0,   0],\n",
       "       [  0,   0,   0,   0,   1,   1,   6,   7,   1,   0,   0,   3,   1,\n",
       "          1,   1,   0, 204,   1,  10,  11],\n",
       "       [  6,   1,   0,   0,   1,   0,   5,   5,   9,   2,   1,   1,   4,\n",
       "          3,   3,   0,   5, 205,  19,   6],\n",
       "       [  5,   0,   0,   0,   0,   0,   7,   5,   3,   3,   1,   2,   0,\n",
       "          6,   3,   0,  37,   6, 127,  30],\n",
       "       [ 62,   0,   0,   0,   0,   1,   4,   0,   3,   0,   1,   1,   4,\n",
       "          2,   7,  12,  14,   1,  15, 131]], dtype=int64)"
      ]
     },
     "execution_count": 43,
     "metadata": {},
     "output_type": "execute_result"
    }
   ],
   "source": [
    "cnf_matrix = confusion_matrix(Y_test,y_pred)\n",
    "cnf_matrix"
   ]
  },
  {
   "cell_type": "code",
   "execution_count": 44,
   "metadata": {},
   "outputs": [
    {
     "data": {
      "image/png": "[encoded data removed]",
      "text/plain": [
       "<Figure size 432x288 with 1 Axes>"
      ]
     },
     "metadata": {
      "needs_background": "light"
     },
     "output_type": "display_data"
    }
   ],
   "source": [
    "import matplotlib.pyplot as plt\n",
    "import seaborn as sns\n",
    "class_names = [\"1\",\"2\",\"3\",\"4\",\"5\",\"6\",\"7\",\"8\",\"9\",\"10\",\"11\",\"12\",\"13\",\"14\",\"15\",\"16\",\"17\",\"18\",\"19\",\"20\"]\n",
    "fig,ax = plt.subplots()\n",
    "\n",
    "\n",
    "sns.heatmap(pd.DataFrame(cnf_matrix), annot=True, cmap=\"Blues\", fmt=\"d\", cbar=False, xticklabels=class_names, yticklabels=class_names)\n",
    "ax.xaxis.set_label_position('top')\n",
    "plt.tight_layout()\n",
    "plt.ylabel('Actual group')\n",
    "plt.xlabel('Predicted group');"
   ]
  },
  {
   "cell_type": "code",
   "execution_count": 28,
   "metadata": {},
   "outputs": [
    {
     "name": "stdout",
     "output_type": "stream",
     "text": [
      "              precision    recall  f1-score   support\n",
      "\n",
      "           0       0.70      0.83      0.76       245\n",
      "           1       0.82      0.81      0.81       246\n",
      "           2       0.88      0.88      0.88       253\n",
      "           3       0.81      0.88      0.85       244\n",
      "           4       0.86      0.90      0.88       241\n",
      "           5       0.94      0.85      0.89       290\n",
      "           6       0.76      0.90      0.82       241\n",
      "           7       0.88      0.93      0.91       242\n",
      "           8       0.89      0.96      0.93       239\n",
      "           9       0.97      0.96      0.96       261\n",
      "          10       0.99      0.96      0.98       270\n",
      "          11       0.96      0.91      0.93       238\n",
      "          12       0.81      0.84      0.82       248\n",
      "          13       0.97      0.89      0.93       237\n",
      "          14       0.93      0.93      0.93       248\n",
      "          15       0.95      0.98      0.97       258\n",
      "          16       0.78      0.88      0.83       265\n",
      "          17       0.94      0.85      0.89       239\n",
      "          18       0.75      0.65      0.70       246\n",
      "          19       0.64      0.45      0.53       249\n",
      "\n",
      "    accuracy                           0.86      5000\n",
      "   macro avg       0.86      0.86      0.86      5000\n",
      "weighted avg       0.86      0.86      0.86      5000\n",
      "\n"
     ]
    }
   ],
   "source": [
    "print(classification_report(Y_test,y_pred)) #classification report for testing data"
   ]
  },
  {
   "cell_type": "code",
   "execution_count": null,
   "metadata": {},
   "outputs": [],
   "source": []
  }
 ],
 "metadata": {
  "accelerator": "GPU",
  "colab": {
   "collapsed_sections": [],
   "name": "Text_Classification_project.ipynb",
   "provenance": [],
   "version": "0.3.2"
  },
  "kernelspec": {
   "display_name": "Python 3",
   "language": "python",
   "name": "python3"
  },
  "language_info": {
   "codemirror_mode": {
    "name": "ipython",
    "version": 3
   },
   "file_extension": ".py",
   "mimetype": "text/x-python",
   "name": "python",
   "nbconvert_exporter": "python",
   "pygments_lexer": "ipython3",
   "version": "3.7.4"
  }
 },
 "nbformat": 4,
 "nbformat_minor": 1
}
